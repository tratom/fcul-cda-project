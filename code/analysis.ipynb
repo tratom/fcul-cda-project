{
 "cells": [
  {
   "cell_type": "code",
   "execution_count": null,
   "metadata": {},
   "outputs": [],
   "source": [
    "# netowrks\n",
    "import networkx as nx\n",
    "import igraph as ig\n",
    "\n",
    "# data processing\n",
    "import pandas as pd\n",
    "import numpy as np\n",
    "\n",
    "#some functions to make our lifes easier\n",
    "import sys\n",
    "sys.path.append(\"../\")\n",
    "from common_functions import *\n",
    "\n",
    "# viz\n",
    "#import pylab as plt\n",
    "import matplotlib.pyplot as plt\n",
    "import seaborn as sns\n",
    "\n",
    "# gzip\n",
    "import gzip\n"
   ]
  },
  {
   "cell_type": "code",
   "execution_count": null,
   "metadata": {},
   "outputs": [],
   "source": [
    "G = nx.read_adjlist('soc-Epinions1.txt')"
   ]
  },
  {
   "cell_type": "code",
   "execution_count": 16,
   "metadata": {},
   "outputs": [
    {
     "name": "stdout",
     "output_type": "stream",
     "text": [
      "Total Nodes: 75879\n",
      "Total Edges: 508837\n",
      "Is Directed: True\n"
     ]
    }
   ],
   "source": [
    "# Path to file\n",
    "file_path = 'soc-Epinions1.txt.gz'\n",
    "\n",
    "# Initialize a directed graph\n",
    "G = nx.DiGraph()\n",
    "\n",
    "# Load the edge list into the directed graph\n",
    "with gzip.open(file_path, 'rt') as f:\n",
    "    # Skip header lines that start with '#'\n",
    "    edges = [line.strip().split('\\t') for line in f if not line.startswith('#')]\n",
    "    # Add edges to the graph\n",
    "    G.add_edges_from((int(src), int(dst)) for src, dst in edges)\n",
    "\n",
    "# Basic graph statistics\n",
    "num_nodes = G.number_of_nodes()\n",
    "num_edges = G.number_of_edges()\n",
    "is_directed = G.is_directed()\n",
    "\n",
    "# Print basic graph statistics\n",
    "print(\"Total Nodes:\", num_nodes)\n",
    "print(\"Total Edges:\", num_edges)\n",
    "print(\"Is Directed:\", is_directed)"
   ]
  },
  {
   "cell_type": "code",
   "execution_count": 17,
   "metadata": {},
   "outputs": [
    {
     "name": "stdout",
     "output_type": "stream",
     "text": [
      "Nodes in largest WCC: 75877\n",
      "Edges in largest WCC: 508836\n"
     ]
    }
   ],
   "source": [
    "# Extract the largest Weakly Connected Component (WCC)\n",
    "# For a directed graph, weakly connected components treat edges as undirected for connectivity purposes\n",
    "largest_wcc = max(nx.weakly_connected_components(G), key=len)\n",
    "\n",
    "# Create a subgraph of the largest WCC\n",
    "G_wcc = G.subgraph(largest_wcc).copy()\n",
    "\n",
    "# Statistics for the largest WCC\n",
    "wcc_num_nodes = G_wcc.number_of_nodes()\n",
    "wcc_num_edges = G_wcc.number_of_edges()\n",
    "\n",
    "# Print WCC statistics\n",
    "print(\"Nodes in largest WCC:\", wcc_num_nodes)\n",
    "print(\"Edges in largest WCC:\", wcc_num_edges)"
   ]
  },
  {
   "cell_type": "code",
   "execution_count": 18,
   "metadata": {},
   "outputs": [
    {
     "data": {
      "image/png": "[encoded data removed]",
      "text/plain": [
       "<Figure size 432x288 with 1 Axes>"
      ]
     },
     "metadata": {
      "needs_background": "light"
     },
     "output_type": "display_data"
    }
   ],
   "source": [
    "# Compute in-degree and out-degree distributions\n",
    "in_degrees = [G_wcc.in_degree(n) for n in G_wcc.nodes()]\n",
    "out_degrees = [G_wcc.out_degree(n) for n in G_wcc.nodes()]\n",
    "\n",
    "# Plot in-degree distribution\n",
    "plt.hist(in_degrees, bins=50, color='blue', alpha=0.7, label='In-degree')\n",
    "plt.hist(out_degrees, bins=50, color='red', alpha=0.7, label='Out-degree')\n",
    "plt.xlabel(\"Degree\")\n",
    "plt.ylabel(\"Frequency\")\n",
    "plt.legend()\n",
    "plt.title(\"Degree Distribution\")\n",
    "plt.show()"
   ]
  },
  {
   "cell_type": "code",
   "execution_count": 19,
   "metadata": {},
   "outputs": [
    {
     "name": "stdout",
     "output_type": "stream",
     "text": [
      "Average Clustering Coefficient: 0.1377600044367361\n"
     ]
    }
   ],
   "source": [
    "# Calculate the average clustering coefficient\n",
    "avg_clustering = nx.average_clustering(G_wcc.to_undirected())  # Convert to undirected for clustering\n",
    "print(\"Average Clustering Coefficient:\", avg_clustering)"
   ]
  },
  {
   "cell_type": "code",
   "execution_count": null,
   "metadata": {},
   "outputs": [],
   "source": [
    "# Calculate the average shortest path length\n",
    "# This can be computationally intensive; only use on smaller graphs or expect it to take time\n",
    "try:\n",
    "    avg_shortest_path_length = nx.average_shortest_path_length(G_wcc)\n",
    "    print(\"Average Shortest Path Length:\", avg_shortest_path_length)\n",
    "except Exception as e:\n",
    "    print(\"Error calculating shortest path length:\", e)"
   ]
  },
  {
   "cell_type": "code",
   "execution_count": null,
   "metadata": {},
   "outputs": [],
   "source": [
    "# Degree centrality\n",
    "degree_centrality = nx.degree_centrality(G_wcc)\n",
    "print(\"Top 5 nodes by degree centrality:\", sorted(degree_centrality.items(), key=lambda x: x[1], reverse=True)[:5])\n",
    "\n",
    "# Betweenness centrality (for larger graphs, consider approximations)\n",
    "betweenness_centrality = nx.betweenness_centrality(G_wcc, k=100, seed=42)  # Using sample for speed\n",
    "print(\"Top 5 nodes by betweenness centrality:\", sorted(betweenness_centrality.items(), key=lambda x: x[1], reverse=True)[:5])"
   ]
  },
  {
   "cell_type": "code",
   "execution_count": null,
   "metadata": {},
   "outputs": [],
   "source": [
    "# Calculate assortativity coefficient\n",
    "assortativity = nx.degree_assortativity_coefficient(G_wcc)\n",
    "print(\"Assortativity Coefficient:\", assortativity)"
   ]
  },
  {
   "cell_type": "code",
   "execution_count": null,
   "metadata": {},
   "outputs": [],
   "source": [
    "nx.draw_networkx(G, node_size=1000, node_color='lightblue', with_labels=True, font_size=8)"
   ]
  }
 ],
 "metadata": {
  "kernelspec": {
   "display_name": "networks",
   "language": "python",
   "name": "python3"
  },
  "language_info": {
   "codemirror_mode": {
    "name": "ipython",
    "version": 3
   },
   "file_extension": ".py",
   "mimetype": "text/x-python",
   "name": "python",
   "nbconvert_exporter": "python",
   "pygments_lexer": "ipython3",
   "version": "3.7.12"
  }
 },
 "nbformat": 4,
 "nbformat_minor": 2
}
