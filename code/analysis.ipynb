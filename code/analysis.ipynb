{
 "cells": [
  {
   "cell_type": "markdown",
   "metadata": {},
   "source": [
    "# Complex Data Analysis Project\n",
    "### Group 7\n",
    "* Tommaso Tragno - fc64699\n",
    "* Antonio Alampi - fc64316\n",
    "* Meike Veen - fc64408\n",
    "\n",
    "# stocazzo"
   ]
  },
  {
   "cell_type": "code",
   "execution_count": 1,
   "metadata": {},
   "outputs": [],
   "source": [
    "# netowrks\n",
    "import networkx as nx\n",
    "import igraph as ig\n",
    "\n",
    "# data processing\n",
    "import pandas as pd\n",
    "import numpy as np\n",
    "\n",
    "#some functions to make our lifes easier\n",
    "import sys\n",
    "sys.path.append(\"../\")\n",
    "from common_functions import *\n",
    "\n",
    "# viz\n",
    "#import pylab as plt\n",
    "import matplotlib.pyplot as plt\n",
    "import seaborn as sns\n",
    "\n",
    "# gzip\n",
    "import gzip"
   ]
  },
  {
   "cell_type": "markdown",
   "metadata": {},
   "source": [
    "### Graph creation"
   ]
  },
  {
   "cell_type": "code",
   "execution_count": 2,
   "metadata": {},
   "outputs": [
    {
     "name": "stdout",
     "output_type": "stream",
     "text": [
      "Total Nodes: 75879\n",
      "Total Edges: 508837\n",
      "Is Directed: True\n"
     ]
    }
   ],
   "source": [
    "# Path to file\n",
    "file_path = 'soc-Epinions1.txt.gz'\n",
    "\n",
    "# Initialize a directed graph\n",
    "G = nx.DiGraph()\n",
    "\n",
    "# Load the edge list into the directed graph\n",
    "with gzip.open(file_path, 'rt') as f:\n",
    "    # Skip header lines that start with '#'\n",
    "    edges = [line.strip().split('\\t') for line in f if not line.startswith('#')]\n",
    "    # Add edges to the graph\n",
    "    G.add_edges_from((int(src), int(dst)) for src, dst in edges)\n",
    "\n",
    "# Basic graph statistics\n",
    "num_nodes = G.number_of_nodes()\n",
    "num_edges = G.number_of_edges()\n",
    "is_directed = G.is_directed()\n",
    "\n",
    "# Print basic graph statistics\n",
    "print(\"Total Nodes:\", num_nodes)\n",
    "print(\"Total Edges:\", num_edges)\n",
    "print(\"Is Directed:\", is_directed)"
   ]
  },
  {
   "cell_type": "markdown",
   "metadata": {},
   "source": [
    "### Degree analysis"
   ]
  },
  {
   "cell_type": "code",
   "execution_count": 3,
   "metadata": {},
   "outputs": [],
   "source": [
    "def compute_degree(graph):\n",
    "    # Compute in-degree and out-degree for each node\n",
    "    degree_data = {\n",
    "        \"Node\": [],\n",
    "        \"In-Degree\": [],\n",
    "        \"Out-Degree\": []\n",
    "    }\n",
    "\n",
    "    for node in graph.nodes:\n",
    "        in_degree = graph.in_degree(node)\n",
    "        out_degree = graph.out_degree(node)\n",
    "        degree_data[\"Node\"].append(node)\n",
    "        degree_data[\"In-Degree\"].append(in_degree)\n",
    "        degree_data[\"Out-Degree\"].append(out_degree)\n",
    "    \n",
    "    return degree_data"
   ]
  },
  {
   "cell_type": "code",
   "execution_count": 4,
   "metadata": {},
   "outputs": [],
   "source": [
    "degree_data = compute_degree(G)"
   ]
  },
  {
   "cell_type": "code",
   "execution_count": 5,
   "metadata": {},
   "outputs": [
    {
     "name": "stdout",
     "output_type": "stream",
     "text": [
      "Average in-degree: 6.7059001831863885\n",
      "Average out-degree: 6.7059001831863885\n"
     ]
    }
   ],
   "source": [
    "# Calculate the average in-degree and out-degree\n",
    "total_in_degree = sum(degree_data[\"In-Degree\"])\n",
    "total_out_degree = sum(degree_data[\"Out-Degree\"])\n",
    "num_nodes = G.number_of_nodes()\n",
    "\n",
    "average_in_degree = total_in_degree / num_nodes\n",
    "average_out_degree = total_out_degree / num_nodes\n",
    "\n",
    "# Display the average degree\n",
    "print(f\"Average in-degree: {average_in_degree}\")\n",
    "print(f\"Average out-degree: {average_out_degree}\")"
   ]
  },
  {
   "cell_type": "code",
   "execution_count": 6,
   "metadata": {},
   "outputs": [],
   "source": [
    "# Convert results to a pandas DataFrame for easier analysis and viewing\n",
    "degree_df = pd.DataFrame(degree_data)\n",
    "degree_df.head()  # Display the first few rows\n",
    "\n",
    "# Save the DataFrame to a CSV file\n",
    "degree_df.to_csv('node_degrees.csv', index=False)"
   ]
  },
  {
   "cell_type": "markdown",
   "metadata": {},
   "source": [
    "### Hub finding:\n",
    "* most trusted nodes\n",
    "* more truster nodes\n",
    "* both trusted and truster"
   ]
  },
  {
   "cell_type": "code",
   "execution_count": 7,
   "metadata": {},
   "outputs": [
    {
     "name": "stdout",
     "output_type": "stream",
     "text": [
      "Top 5 nodes by In-Degree: [(18, 3035, 44), (143, 1521, 171), (737, 1317, 372), (790, 1284, 102), (136, 1180, 111)]\n",
      "Top 5 nodes by Out-Degree: [(645, 408, 1801), (763, 293, 1669), (634, 378, 1621), (71399, 116, 1128), (3924, 92, 976)]\n",
      "There are 1 nodes with both In-Degree and Out-Degree above the threshold: [44]\n",
      "The in degree is [(44, 672)] and the out degree is [(44, 843)]\n"
     ]
    }
   ],
   "source": [
    "node_data = list(zip(degree_data[\"Node\"], degree_data[\"In-Degree\"], degree_data[\"Out-Degree\"]))\n",
    "\n",
    "# Sort by In-Degree in descending order and take the top 5\n",
    "top_in_degree = sorted(node_data, key=lambda x: x[1], reverse=True)[:5]\n",
    "\n",
    "# Sort by Out-Degree in descending order and take the top 5\n",
    "top_out_degree = sorted(node_data, key=lambda x: x[2], reverse=True)[:5]\n",
    "\n",
    "# Display results\n",
    "print(\"Top 5 nodes by In-Degree:\", top_in_degree)\n",
    "print(\"Top 5 nodes by Out-Degree:\", top_out_degree)\n",
    "\n",
    "threshold = 600\n",
    "top_in_out_degree = []\n",
    "for i in range(len(degree_data[\"Node\"])):\n",
    "    in_degree = degree_data[\"In-Degree\"][i]\n",
    "    out_degree = degree_data[\"Out-Degree\"][i]\n",
    "    if in_degree > threshold and out_degree > threshold:\n",
    "        top_in_out_degree.append(degree_data[\"Node\"][i])\n",
    "\n",
    "# Output the result\n",
    "print(f'There are {len(top_in_out_degree)} nodes with both In-Degree and Out-Degree above the threshold: {top_in_out_degree}')\n",
    "print(f'The in degree is {G.in_degree(top_in_out_degree)} and the out degree is {G.out_degree(top_in_out_degree)}')"
   ]
  },
  {
   "cell_type": "markdown",
   "metadata": {},
   "source": [
    "### Hub analysis"
   ]
  },
  {
   "cell_type": "code",
   "execution_count": 8,
   "metadata": {},
   "outputs": [
    {
     "name": "stdout",
     "output_type": "stream",
     "text": [
      "The hubs 18 and 143 are not directly connected.\n",
      "The shortest path between 18 and 143 is: [18, 128, 143]\n",
      "There are 588 nodes with outgoing edges to both 18 and 143: {4100, 2055, 2057, 4110, 6159, 16, 10259, 2069, 27, 31, 16416, 33, 36, 2084, 39, 2088, 2097, 2103, 58, 62, 65, 67, 4165, 4167, 6215, 77, 79, 82, 83, 85, 4182, 10330, 91, 4187, 4188, 8288, 2144, 10338, 99, 12388, 4197, 14438, 4199, 2152, 4200, 4202, 107, 2157, 112, 18544, 119, 2167, 71801, 8316, 124, 126, 128, 8321, 10378, 140, 141, 2189, 6285, 145, 146, 8344, 2201, 172, 10413, 2226, 37043, 2231, 2232, 18620, 198, 4295, 12496, 212, 215, 217, 4313, 2270, 223, 225, 2277, 6374, 8423, 232, 2279, 30953, 6378, 4333, 4334, 239, 2287, 6382, 8434, 6383, 6393, 6397, 6402, 2308, 14600, 4368, 6419, 2329, 290, 291, 4394, 8491, 24877, 8495, 4406, 318, 320, 2369, 4418, 329, 340, 342, 343, 6487, 348, 8541, 356, 2410, 375, 379, 45439, 384, 385, 57728, 2433, 4482, 6527, 8592, 6555, 418, 8613, 2470, 2471, 431, 4527, 4537, 443, 445, 447, 14783, 4547, 20933, 2504, 460, 12750, 4564, 2525, 8671, 485, 6629, 2538, 8684, 2548, 2549, 4596, 2553, 508, 4606, 6656, 518, 12807, 8712, 12809, 12810, 8716, 2572, 2574, 12821, 8732, 547, 549, 552, 559, 6703, 18997, 2614, 570, 2623, 576, 4679, 16968, 586, 4685, 592, 2644, 2646, 10838, 29272, 6744, 602, 2651, 2653, 606, 607, 2656, 10846, 4706, 624, 625, 629, 630, 4725, 634, 6780, 637, 4736, 6784, 644, 645, 649, 8842, 12939, 6793, 653, 2704, 2706, 661, 663, 2713, 670, 671, 6814, 8867, 6820, 8871, 6824, 2729, 6829, 686, 2736, 697, 10937, 2750, 708, 6852, 733, 2786, 4834, 2788, 748, 749, 2796, 751, 759, 762, 4862, 775, 2826, 8974, 21262, 8976, 788, 789, 790, 8989, 805, 808, 13104, 6960, 4914, 6962, 821, 824, 2872, 15161, 828, 831, 4929, 21320, 2889, 4941, 4944, 4949, 29529, 862, 4962, 11114, 2931, 898, 19330, 908, 909, 9100, 19343, 7059, 2970, 925, 5027, 2980, 2992, 2995, 955, 960, 5056, 3011, 5060, 965, 970, 7114, 19406, 988, 3039, 997, 13289, 1006, 15350, 1017, 1025, 13325, 1059, 5164, 3117, 1075, 1077, 5175, 1084, 5181, 3138, 3142, 9306, 3174, 19561, 7273, 5229, 7289, 19583, 5248, 5263, 13455, 5266, 1171, 1173, 11413, 3226, 3234, 17581, 1209, 23738, 5309, 3262, 3268, 5318, 1224, 1225, 3277, 3278, 1234, 1238, 11479, 15575, 7394, 1252, 1254, 3306, 7408, 17649, 7418, 11521, 1283, 7429, 7430, 1288, 7435, 5393, 13588, 3352, 5412, 11560, 11568, 5425, 3379, 5427, 5428, 3386, 19790, 25939, 3412, 3418, 11616, 3425, 1379, 3431, 9582, 1404, 7549, 5503, 5505, 5510, 25993, 5514, 5518, 1423, 3474, 1428, 1434, 5534, 1440, 3488, 1443, 1445, 19885, 3502, 1455, 3507, 1460, 3514, 3515, 1469, 1471, 1473, 1474, 3523, 1480, 1483, 5580, 1491, 1492, 7637, 1494, 7643, 1501, 1505, 3557, 1510, 3564, 1517, 1518, 11756, 1520, 1522, 24052, 11765, 1526, 1528, 1529, 1532, 3582, 3584, 3586, 1539, 1541, 9738, 3594, 17933, 1551, 1552, 9746, 9748, 1562, 1564, 9762, 5667, 5679, 15941, 3673, 1626, 11868, 1629, 5724, 3679, 1634, 3683, 1636, 1647, 1650, 1657, 20090, 1661, 1663, 1665, 1669, 26247, 7817, 5776, 1683, 1684, 5782, 1690, 1692, 1694, 5792, 22180, 1701, 1702, 16036, 63147, 1716, 26292, 1718, 5812, 1720, 5813, 3774, 1727, 7872, 3780, 5831, 5832, 7881, 1738, 1748, 7896, 1754, 7900, 1767, 71400, 71403, 71404, 1778, 3827, 3828, 3830, 7935, 7949, 3854, 20241, 10002, 5908, 5916, 22300, 5918, 5917, 1831, 3879, 3880, 16169, 1835, 1836, 3887, 5939, 5941, 1846, 1847, 1849, 3898, 5951, 5952, 1857, 1859, 1860, 1863, 1865, 1866, 1867, 5967, 3921, 3923, 1876, 3925, 1885, 8032, 5992, 3952, 6001, 1912, 16250, 8060, 1918, 3968, 3985, 4001, 4003, 6053, 6055, 4010, 4017, 4038, 4040, 4045, 16334, 4051, 8149, 8158, 6114, 20452, 4080, 2033, 2037, 2043, 8188}\n"
     ]
    }
   ],
   "source": [
    "# Define the two hub nodes\n",
    "node_a = 18\n",
    "node_b = 143\n",
    "\n",
    "# Check if the hubs are connected\n",
    "if G.has_edge(node_a, node_b):\n",
    "    print(f'The hubs {node_a} and {node_b} are directly connected.')\n",
    "else:\n",
    "    print(f'The hubs {node_a} and {node_b} are not directly connected.')\n",
    "    \n",
    "    # If not directly connected, find the shortest path (if it exists)\n",
    "    try:\n",
    "        path = nx.shortest_path(G, node_a, node_b)\n",
    "        print(f'The shortest path between {node_a} and {node_b} is: {path}')\n",
    "    except nx.NetworkXNoPath:\n",
    "        print(f'There is no path between {node_a} and {node_b}.')\n",
    "\n",
    "# Get the predecessors of the target nodes\n",
    "predecessors_a = set(G.predecessors(node_a))\n",
    "predecessors_b = set(G.predecessors(node_b))\n",
    "\n",
    "# Find nodes that have outgoing edges to both target nodes\n",
    "common_predecessors = predecessors_a & predecessors_b\n",
    "\n",
    "# Output the result\n",
    "print(f'There are {len(common_predecessors)} nodes with outgoing edges to both {node_a} and {node_b}: {common_predecessors}')"
   ]
  },
  {
   "cell_type": "code",
   "execution_count": null,
   "metadata": {},
   "outputs": [],
   "source": [
    "# Degree centrality\n",
    "degree_centrality = nx.degree_centrality(G)\n",
    "print(\"Top 5 nodes by degree centrality:\", sorted(degree_centrality.items(), key=lambda x: x[1], reverse=True)[:5])\n",
    "\n",
    "# Betweenness centrality (for larger graphs, consider approximations)\n",
    "betweenness_centrality = nx.betweenness_centrality(G, k=100, seed=42)  # Using sample for speed\n",
    "print(\"Top 5 nodes by betweenness centrality:\", sorted(betweenness_centrality.items(), key=lambda x: x[1], reverse=True)[:5])"
   ]
  },
  {
   "cell_type": "markdown",
   "metadata": {},
   "source": [
    "## Core network"
   ]
  },
  {
   "cell_type": "code",
   "execution_count": 10,
   "metadata": {},
   "outputs": [],
   "source": [
    "def get_core_nodes(graph, threshold):\n",
    "    \"\"\"\n",
    "    Recursively removes nodes with in-degree + out-degree < threshold and returns the core graph.\n",
    "    \n",
    "    Parameters:\n",
    "    - graph: A NetworkX DiGraph (directed graph)\n",
    "    \n",
    "    Returns:\n",
    "    - A NetworkX DiGraph representing the core of the network\n",
    "    \"\"\"\n",
    "    # Create a copy of the graph to avoid modifying the original\n",
    "    core_graph = graph.copy()\n",
    "    \n",
    "    count = 0\n",
    "    number_of_removed = 0\n",
    "    while True:\n",
    "        # Identify nodes with in-degree + out-degree < threshold\n",
    "        nodes_to_remove = [\n",
    "            node for node in core_graph.nodes \n",
    "            if core_graph.in_degree(node) + core_graph.out_degree(node) < threshold\n",
    "        ]\n",
    "        \n",
    "        # Exit condition - if no nodes meet the condition, stop the process\n",
    "        if not nodes_to_remove:\n",
    "            break\n",
    "        \n",
    "        # Remove the identified nodes\n",
    "        core_graph.remove_nodes_from(nodes_to_remove)\n",
    "        number_of_removed += len(nodes_to_remove)\n",
    "        print(f'Iteration {count}: removed {len(nodes_to_remove)} nodes')\n",
    "        count += 1\n",
    "    print(f'Executed {count} iterations, removed {number_of_removed} nodes')\n",
    "    return core_graph"
   ]
  },
  {
   "cell_type": "code",
   "execution_count": 11,
   "metadata": {},
   "outputs": [
    {
     "name": "stdout",
     "output_type": "stream",
     "text": [
      "Iteration 0: removed 59804 nodes\n",
      "Iteration 1: removed 2508 nodes\n",
      "Iteration 2: removed 324 nodes\n",
      "Iteration 3: removed 65 nodes\n",
      "Iteration 4: removed 13 nodes\n",
      "Iteration 5: removed 3 nodes\n",
      "Iteration 6: removed 1 nodes\n",
      "Executed 7 iterations, removed 62718 nodes\n",
      "Original Graph: 75879 nodes, 508837 edges\n",
      "Core Graph: 13161 nodes, 381022 edges\n"
     ]
    }
   ],
   "source": [
    "# Get the core graph\n",
    "threshold = 8\n",
    "core_G = get_core_nodes(G, threshold)\n",
    "\n",
    "# Print the number of nodes and edges in the original and core graphs\n",
    "print(f\"Original Graph: {G.number_of_nodes()} nodes, {G.number_of_edges()} edges\")\n",
    "print(f\"Core Graph: {core_G.number_of_nodes()} nodes, {core_G.number_of_edges()} edges\")"
   ]
  },
  {
   "cell_type": "code",
   "execution_count": 12,
   "metadata": {},
   "outputs": [
    {
     "name": "stdout",
     "output_type": "stream",
     "text": [
      "Top 5 nodes by In-Degree: [(18, 2449, 44), (143, 1288, 140), (737, 1098, 365), (790, 1079, 102), (1179, 1049, 85)]\n",
      "Top 5 nodes by Out-Degree: [(645, 361, 1518), (634, 307, 1181), (763, 177, 836), (71399, 93, 835), (3924, 86, 793)]\n"
     ]
    }
   ],
   "source": [
    "core_degree_data = compute_degree(core_G)\n",
    "\n",
    "core_node_data = list(zip(core_degree_data[\"Node\"], core_degree_data[\"In-Degree\"], core_degree_data[\"Out-Degree\"]))\n",
    "\n",
    "# Sort by In-Degree in descending order and take the top 5\n",
    "core_top_in_degree = sorted(core_node_data, key=lambda x: x[1], reverse=True)[:5]\n",
    "\n",
    "# Sort by Out-Degree in descending order and take the top 5\n",
    "core_top_out_degree = sorted(core_node_data, key=lambda x: x[2], reverse=True)[:5]\n",
    "\n",
    "# Display results\n",
    "print(\"Top 5 nodes by In-Degree:\", core_top_in_degree)\n",
    "print(\"Top 5 nodes by Out-Degree:\", core_top_out_degree)"
   ]
  },
  {
   "cell_type": "markdown",
   "metadata": {},
   "source": [
    "## Random network"
   ]
  },
  {
   "cell_type": "code",
   "execution_count": null,
   "metadata": {},
   "outputs": [],
   "source": []
  },
  {
   "cell_type": "code",
   "execution_count": null,
   "metadata": {},
   "outputs": [],
   "source": []
  },
  {
   "cell_type": "code",
   "execution_count": null,
   "metadata": {},
   "outputs": [],
   "source": []
  },
  {
   "cell_type": "code",
   "execution_count": null,
   "metadata": {},
   "outputs": [],
   "source": []
  },
  {
   "cell_type": "code",
   "execution_count": 17,
   "metadata": {},
   "outputs": [
    {
     "name": "stdout",
     "output_type": "stream",
     "text": [
      "Nodes in largest WCC: 75877\n",
      "Edges in largest WCC: 508836\n"
     ]
    }
   ],
   "source": [
    "# Extract the largest Weakly Connected Component (WCC)\n",
    "# For a directed graph, weakly connected components treat edges as undirected for connectivity purposes\n",
    "largest_wcc = max(nx.weakly_connected_components(G), key=len)\n",
    "\n",
    "# Create a subgraph of the largest WCC\n",
    "G_wcc = G.subgraph(largest_wcc).copy()\n",
    "\n",
    "# Statistics for the largest WCC\n",
    "wcc_num_nodes = G_wcc.number_of_nodes()\n",
    "wcc_num_edges = G_wcc.number_of_edges()\n",
    "\n",
    "# Print WCC statistics\n",
    "print(\"Nodes in largest WCC:\", wcc_num_nodes)\n",
    "print(\"Edges in largest WCC:\", wcc_num_edges)"
   ]
  },
  {
   "cell_type": "code",
   "execution_count": 18,
   "metadata": {},
   "outputs": [
    {
     "data": {
      "image/png": "[encoded data removed]",
      "text/plain": [
       "<Figure size 432x288 with 1 Axes>"
      ]
     },
     "metadata": {
      "needs_background": "light"
     },
     "output_type": "display_data"
    }
   ],
   "source": [
    "# Compute in-degree and out-degree distributions\n",
    "in_degrees = [G_wcc.in_degree(n) for n in G_wcc.nodes()]\n",
    "out_degrees = [G_wcc.out_degree(n) for n in G_wcc.nodes()]\n",
    "\n",
    "# Plot in-degree distribution\n",
    "plt.hist(in_degrees, bins=50, color='blue', alpha=0.7, label='In-degree')\n",
    "plt.hist(out_degrees, bins=50, color='red', alpha=0.7, label='Out-degree')\n",
    "plt.xlabel(\"Degree\")\n",
    "plt.ylabel(\"Frequency\")\n",
    "plt.legend()\n",
    "plt.title(\"Degree Distribution\")\n",
    "plt.show()"
   ]
  },
  {
   "cell_type": "code",
   "execution_count": 19,
   "metadata": {},
   "outputs": [
    {
     "name": "stdout",
     "output_type": "stream",
     "text": [
      "Average Clustering Coefficient: 0.1377600044367361\n"
     ]
    }
   ],
   "source": [
    "# Calculate the average clustering coefficient\n",
    "avg_clustering = nx.average_clustering(G_wcc.to_undirected())  # Convert to undirected for clustering\n",
    "print(\"Average Clustering Coefficient:\", avg_clustering)"
   ]
  },
  {
   "cell_type": "code",
   "execution_count": null,
   "metadata": {},
   "outputs": [],
   "source": [
    "# Calculate the average shortest path length\n",
    "# This can be computationally intensive; only use on smaller graphs or expect it to take time\n",
    "try:\n",
    "    avg_shortest_path_length = nx.average_shortest_path_length(G_wcc)\n",
    "    print(\"Average Shortest Path Length:\", avg_shortest_path_length)\n",
    "except Exception as e:\n",
    "    print(\"Error calculating shortest path length:\", e)"
   ]
  },
  {
   "cell_type": "code",
   "execution_count": null,
   "metadata": {},
   "outputs": [],
   "source": [
    "# Calculate assortativity coefficient\n",
    "assortativity = nx.degree_assortativity_coefficient(G_wcc)\n",
    "print(\"Assortativity Coefficient:\", assortativity)"
   ]
  },
  {
   "cell_type": "code",
   "execution_count": null,
   "metadata": {},
   "outputs": [],
   "source": [
    "nx.draw_networkx(G, node_size=1000, node_color='lightblue', with_labels=True, font_size=8)"
   ]
  }
 ],
 "metadata": {
  "kernelspec": {
   "display_name": "networks",
   "language": "python",
   "name": "python3"
  },
  "language_info": {
   "codemirror_mode": {
    "name": "ipython",
    "version": 3
   },
   "file_extension": ".py",
   "mimetype": "text/x-python",
   "name": "python",
   "nbconvert_exporter": "python",
   "pygments_lexer": "ipython3",
   "version": "3.7.12"
  }
 },
 "nbformat": 4,
 "nbformat_minor": 2
}
