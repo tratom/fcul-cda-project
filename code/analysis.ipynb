{
 "cells": [
  {
   "cell_type": "markdown",
   "metadata": {},
   "source": [
    "# Complex Data Analysis Project\n",
    "### Group 7\n",
    "* Tommaso Tragno - fc64699\n",
    "* Antonio Alampi - fc64316\n",
    "* Meike Veen - fc64408"
   ]
  },
  {
   "cell_type": "code",
   "execution_count": 1,
   "metadata": {},
   "outputs": [],
   "source": [
    "# netowrks\n",
    "import networkx as nx\n",
    "import igraph as ig\n",
    "\n",
    "# data processing\n",
    "import pandas as pd\n",
    "import numpy as np\n",
    "\n",
    "#some functions to make our lifes easier\n",
    "import sys\n",
    "sys.path.append(\"../\")\n",
    "from common_functions import *\n",
    "\n",
    "# viz\n",
    "#import pylab as plt\n",
    "import matplotlib.pyplot as plt\n",
    "import seaborn as sns\n",
    "\n",
    "# gzip\n",
    "import gzip\n",
    "import statistics\n",
    "\n",
    "from scipy.sparse import diags, csr_matrix, linalg\n",
    "\n",
    "import time"
   ]
  },
  {
   "cell_type": "markdown",
   "metadata": {},
   "source": [
    "### Graph creation"
   ]
  },
  {
   "cell_type": "code",
   "execution_count": 2,
   "metadata": {},
   "outputs": [],
   "source": [
    "# Path to file\n",
    "file_path = 'soc-Epinions1.txt.gz'\n",
    "\n",
    "# Initialize a directed graph\n",
    "G = nx.DiGraph()\n",
    "\n",
    "# Load the edge list into the directed graph\n",
    "with gzip.open(file_path, 'rt') as f:\n",
    "    # Skip header lines that start with '#'\n",
    "    edges = [line.strip().split('\\t') for line in f if not line.startswith('#')]\n",
    "    # Add edges to the graph\n",
    "    G.add_edges_from((int(src), int(dst)) for src, dst in edges)\n",
    "\n"
   ]
  },
  {
   "cell_type": "markdown",
   "metadata": {},
   "source": [
    "## Dataset Statistics"
   ]
  },
  {
   "cell_type": "code",
   "execution_count": 3,
   "metadata": {},
   "outputs": [
    {
     "name": "stdout",
     "output_type": "stream",
     "text": [
      "Is Directed: True\n",
      "Total Nodes: 75879\n",
      "Total Edges: 508837\n",
      "Nodes in largest WCC: 75877\n",
      "Edges in largest WCC: 508836\n",
      "Nodes in largest SCC: 32223\n",
      "Edges in largest SCC: 443506\n",
      "Average clustering coefficient: 0.11017387558244765\n",
      "Number of triangles: 0\n",
      "Diameter (longest shortest path): 0\n"
     ]
    }
   ],
   "source": [
    "is_directed = G.is_directed()\n",
    "num_nodes = G.number_of_nodes()\n",
    "num_edges = G.number_of_edges()\n",
    "\n",
    "# Extract the largest Weakly Connected Component (WCC)\n",
    "# For a directed graph, weakly connected components treat edges as undirected for connectivity purposes\n",
    "largest_wcc = max(nx.weakly_connected_components(G), key=len)\n",
    "\n",
    "# Create a subgraph of the largest WCC\n",
    "G_wcc = G.subgraph(largest_wcc).copy()\n",
    "\n",
    "# Statistics for the largest WCC\n",
    "wcc_num_nodes = G_wcc.number_of_nodes()\n",
    "wcc_num_edges = G_wcc.number_of_edges()\n",
    "\n",
    "# Extract the largest Strongly Connected Component (SCC)\n",
    "# For a directed graph, strongly connected components treat edges as undirected for connectivity purposes\n",
    "largest_scc = max(nx.strongly_connected_components(G), key=len)\n",
    "\n",
    "# Create a subgraph of the largest WCC\n",
    "G_scc = G.subgraph(largest_scc).copy()\n",
    "\n",
    "# Statistics for the largest WCC\n",
    "scc_num_nodes = G_scc.number_of_nodes()\n",
    "scc_num_edges = G_scc.number_of_edges()\n",
    "\n",
    "avg_clustering_coeff = nx.average_clustering(G)\n",
    "num_triangles = 0# nx.triangles(G)\n",
    "diameter = 0#nx.diameter(G)\n",
    "\n",
    "# Print statistics\n",
    "print(\"Is Directed:\", is_directed)\n",
    "print(\"Total Nodes:\", num_nodes)\n",
    "print(\"Total Edges:\", num_edges)\n",
    "print(\"Nodes in largest WCC:\", wcc_num_nodes)\n",
    "print(\"Edges in largest WCC:\", wcc_num_edges)\n",
    "print(\"Nodes in largest SCC:\", scc_num_nodes)\n",
    "print(\"Edges in largest SCC:\", scc_num_edges)\n",
    "print(\"Average clustering coefficient:\", avg_clustering_coeff)\n",
    "print(\"Number of triangles:\", num_triangles)\n",
    "print(\"Diameter (longest shortest path):\", diameter)"
   ]
  },
  {
   "cell_type": "markdown",
   "metadata": {},
   "source": [
    "### Degree analysis"
   ]
  },
  {
   "cell_type": "code",
   "execution_count": 5,
   "metadata": {},
   "outputs": [],
   "source": [
    "def degreeAnalisys(G):\n",
    "    degree_sequence = sorted((d for n, d in G.degree()), reverse=True)\n",
    "    dmax = max(degree_sequence)\n",
    "\n",
    "    fig = plt.figure(\"Degree of a random graph\", figsize=(12, 12))\n",
    "    # Create a gridspec for adding subplots of different sizes\n",
    "    axgrid = fig.add_gridspec(6, 4)\n",
    "\n",
    "    ax0 = fig.add_subplot(axgrid[0:3, :])\n",
    "    Gcc = G.subgraph(sorted(nx.weakly_connected_components(G), key=len, reverse=True)[0])\n",
    "    pos = nx.spring_layout(Gcc, seed=10396953)\n",
    "    nx.draw_networkx_nodes(Gcc, pos, ax=ax0, node_size=20)\n",
    "    nx.draw_networkx_edges(Gcc, pos, ax=ax0, alpha=0.4)\n",
    "    ax0.set_title(\"Weakly connected components of G\")\n",
    "    ax0.set_axis_off()\n",
    "\n",
    "    ax1 = fig.add_subplot(axgrid[3:4, :2])\n",
    "    ax1.plot(degree_sequence, \"b-\", marker=\"o\")\n",
    "    ax1.set_title(\"Degree Rank Plot\")\n",
    "    ax1.set_ylabel(\"Degree\")\n",
    "    ax1.set_xlabel(\"Rank\")\n",
    "\n",
    "    ax2 = fig.add_subplot(axgrid[3:4, 2:])\n",
    "    unique_degrees, counts = np.unique(degree_sequence, return_counts=True)\n",
    "    ax2.bar(unique_degrees, counts, width=0.80, color=\"b\")\n",
    "    ax2.set_title(\"Degree histogram\")\n",
    "    ax2.set_xlabel(\"Degree\")\n",
    "    ax2.set_ylabel(\"# of Nodes\")\n",
    "\n",
    "    # Log-log plot\n",
    "    ax3 = fig.add_subplot(axgrid[4:, :])\n",
    "    ax3.scatter(unique_degrees, counts, color=\"b\", alpha=0.6, edgecolors=\"k\")\n",
    "    ax3.set_xscale(\"log\")\n",
    "    ax3.set_yscale(\"log\")\n",
    "    ax3.set_title(\"Degree Distribution (Log-Log)\")\n",
    "    ax3.set_xlabel(\"Degree (log scale)\")\n",
    "    ax3.set_ylabel(\"Frequency (log scale)\")\n",
    "\n",
    "    fig.tight_layout()\n",
    "    plt.show()"
   ]
  },
  {
   "cell_type": "code",
   "execution_count": null,
   "metadata": {},
   "outputs": [],
   "source": [
    "degreeAnalisys(G)"
   ]
  },
  {
   "cell_type": "code",
   "execution_count": 7,
   "metadata": {},
   "outputs": [
    {
     "name": "stdout",
     "output_type": "stream",
     "text": [
      "Mean degree: 13.411800366372777\n",
      "Median degree: 2\n"
     ]
    }
   ],
   "source": [
    "degrees = [G.degree(n) for n in G.nodes]\n",
    "print('Mean degree:', statistics.mean(degrees))\n",
    "print('Median degree:', statistics.median(degrees))"
   ]
  },
  {
   "cell_type": "code",
   "execution_count": 4,
   "metadata": {},
   "outputs": [],
   "source": [
    "def compute_degree(graph):\n",
    "    # Compute in-degree and out-degree for each node\n",
    "    degree_data = {\n",
    "        \"Node\": [],\n",
    "        \"In-Degree\": [],\n",
    "        \"Out-Degree\": []\n",
    "    }\n",
    "\n",
    "    for node in graph.nodes:\n",
    "        in_degree = graph.in_degree(node)\n",
    "        out_degree = graph.out_degree(node)\n",
    "        degree_data[\"Node\"].append(node)\n",
    "        degree_data[\"In-Degree\"].append(in_degree)\n",
    "        degree_data[\"Out-Degree\"].append(out_degree)\n",
    "    \n",
    "    return degree_data"
   ]
  },
  {
   "cell_type": "code",
   "execution_count": 5,
   "metadata": {},
   "outputs": [],
   "source": [
    "degree_data = compute_degree(G)"
   ]
  },
  {
   "cell_type": "code",
   "execution_count": 7,
   "metadata": {},
   "outputs": [
    {
     "name": "stdout",
     "output_type": "stream",
     "text": [
      "Average in-degree: 6.7059001831863885\n",
      "Average out-degree: 6.7059001831863885\n"
     ]
    }
   ],
   "source": [
    "# Calculate the average in-degree and out-degree\n",
    "total_in_degree = sum(degree_data[\"In-Degree\"])\n",
    "total_out_degree = sum(degree_data[\"Out-Degree\"])\n",
    "num_nodes = G.number_of_nodes()\n",
    "\n",
    "average_in_degree = total_in_degree / num_nodes\n",
    "average_out_degree = total_out_degree / num_nodes\n",
    "\n",
    "# Display the average degree\n",
    "print(f\"Average in-degree: {average_in_degree}\")\n",
    "print(f\"Average out-degree: {average_out_degree}\")"
   ]
  },
  {
   "cell_type": "code",
   "execution_count": 8,
   "metadata": {},
   "outputs": [],
   "source": [
    "# Convert results to a pandas DataFrame for easier analysis and viewing\n",
    "degree_df = pd.DataFrame(degree_data)\n",
    "degree_df.head()  # Display the first few rows\n",
    "\n",
    "# Save the DataFrame to a CSV file\n",
    "degree_df.to_csv('node_degrees.csv', index=False)"
   ]
  },
  {
   "cell_type": "markdown",
   "metadata": {},
   "source": [
    "### Hub finding:\n",
    "* most trusted nodes\n",
    "* more truster nodes\n",
    "* both trusted and truster"
   ]
  },
  {
   "cell_type": "code",
   "execution_count": 6,
   "metadata": {},
   "outputs": [
    {
     "name": "stdout",
     "output_type": "stream",
     "text": [
      "Top 5 nodes by In-Degree: [(18, 3035, 44), (143, 1521, 171), (737, 1317, 372), (790, 1284, 102), (136, 1180, 111)]\n",
      "Top 5 nodes by Out-Degree: [(645, 408, 1801), (763, 293, 1669), (634, 378, 1621), (71399, 116, 1128), (3924, 92, 976)]\n",
      "There are 1 nodes with both In-Degree and Out-Degree above the threshold: [44]\n",
      "The in degree is [(44, 672)] and the out degree is [(44, 843)]\n"
     ]
    }
   ],
   "source": [
    "node_data = list(zip(degree_data[\"Node\"], degree_data[\"In-Degree\"], degree_data[\"Out-Degree\"]))\n",
    "\n",
    "# Sort by In-Degree in descending order and take the top 5\n",
    "top_in_degree = sorted(node_data, key=lambda x: x[1], reverse=True)[:5]\n",
    "\n",
    "# Sort by Out-Degree in descending order and take the top 5\n",
    "top_out_degree = sorted(node_data, key=lambda x: x[2], reverse=True)[:5]\n",
    "\n",
    "# Display results\n",
    "print(\"Top 5 nodes by In-Degree:\", top_in_degree)\n",
    "print(\"Top 5 nodes by Out-Degree:\", top_out_degree)\n",
    "\n",
    "threshold = 600\n",
    "top_in_out_degree = []\n",
    "for i in range(len(degree_data[\"Node\"])):\n",
    "    in_degree = degree_data[\"In-Degree\"][i]\n",
    "    out_degree = degree_data[\"Out-Degree\"][i]\n",
    "    if in_degree > threshold and out_degree > threshold:\n",
    "        top_in_out_degree.append(degree_data[\"Node\"][i])\n",
    "\n",
    "# Output the result\n",
    "print(f'There are {len(top_in_out_degree)} nodes with both In-Degree and Out-Degree above the threshold: {top_in_out_degree}')\n",
    "print(f'The in degree is {G.in_degree(top_in_out_degree)} and the out degree is {G.out_degree(top_in_out_degree)}')"
   ]
  },
  {
   "cell_type": "markdown",
   "metadata": {},
   "source": [
    "### Hub analysis"
   ]
  },
  {
   "cell_type": "code",
   "execution_count": 9,
   "metadata": {},
   "outputs": [
    {
     "name": "stdout",
     "output_type": "stream",
     "text": [
      "The hubs 18 and 143 are not directly connected.\n",
      "The shortest path between 18 and 143 is: [18, 128, 143]\n",
      "There are 588 nodes with outgoing edges to both 18 and 143: {4100, 2055, 2057, 4110, 6159, 16, 10259, 2069, 27, 31, 16416, 33, 36, 2084, 39, 2088, 2097, 2103, 58, 62, 65, 67, 4165, 4167, 6215, 77, 79, 82, 83, 85, 4182, 10330, 91, 4187, 4188, 8288, 2144, 10338, 99, 12388, 4197, 14438, 4199, 2152, 4200, 4202, 107, 2157, 112, 18544, 119, 2167, 71801, 8316, 124, 126, 128, 8321, 10378, 140, 141, 2189, 6285, 145, 146, 8344, 2201, 172, 10413, 2226, 37043, 2231, 2232, 18620, 198, 4295, 12496, 212, 215, 217, 4313, 2270, 223, 225, 2277, 6374, 8423, 232, 2279, 30953, 6378, 4333, 4334, 239, 2287, 6382, 8434, 6383, 6393, 6397, 6402, 2308, 14600, 4368, 6419, 2329, 290, 291, 4394, 8491, 24877, 8495, 4406, 318, 320, 2369, 4418, 329, 340, 342, 343, 6487, 348, 8541, 356, 2410, 375, 379, 45439, 384, 385, 57728, 2433, 4482, 6527, 8592, 6555, 418, 8613, 2470, 2471, 431, 4527, 4537, 443, 445, 447, 14783, 4547, 20933, 2504, 460, 12750, 4564, 2525, 8671, 485, 6629, 2538, 8684, 2548, 2549, 4596, 2553, 508, 4606, 6656, 518, 12807, 8712, 12809, 12810, 8716, 2572, 2574, 12821, 8732, 547, 549, 552, 559, 6703, 18997, 2614, 570, 2623, 576, 4679, 16968, 586, 4685, 592, 2644, 2646, 10838, 29272, 6744, 602, 2651, 2653, 606, 607, 2656, 10846, 4706, 624, 625, 629, 630, 4725, 634, 6780, 637, 4736, 6784, 644, 645, 649, 8842, 12939, 6793, 653, 2704, 2706, 661, 663, 2713, 670, 671, 6814, 8867, 6820, 8871, 6824, 2729, 6829, 686, 2736, 697, 10937, 2750, 708, 6852, 733, 2786, 4834, 2788, 748, 749, 2796, 751, 759, 762, 4862, 775, 2826, 8974, 21262, 8976, 788, 789, 790, 8989, 805, 808, 13104, 6960, 4914, 6962, 821, 824, 2872, 15161, 828, 831, 4929, 21320, 2889, 4941, 4944, 4949, 29529, 862, 4962, 11114, 2931, 898, 19330, 908, 909, 9100, 19343, 7059, 2970, 925, 5027, 2980, 2992, 2995, 955, 960, 5056, 3011, 5060, 965, 970, 7114, 19406, 988, 3039, 997, 13289, 1006, 15350, 1017, 1025, 13325, 1059, 5164, 3117, 1075, 1077, 5175, 1084, 5181, 3138, 3142, 9306, 3174, 19561, 7273, 5229, 7289, 19583, 5248, 5263, 13455, 5266, 1171, 1173, 11413, 3226, 3234, 17581, 1209, 23738, 5309, 3262, 3268, 5318, 1224, 1225, 3277, 3278, 1234, 1238, 11479, 15575, 7394, 1252, 1254, 3306, 7408, 17649, 7418, 11521, 1283, 7429, 7430, 1288, 7435, 5393, 13588, 3352, 5412, 11560, 11568, 5425, 3379, 5427, 5428, 3386, 19790, 25939, 3412, 3418, 11616, 3425, 1379, 3431, 9582, 1404, 7549, 5503, 5505, 5510, 25993, 5514, 5518, 1423, 3474, 1428, 1434, 5534, 1440, 3488, 1443, 1445, 19885, 3502, 1455, 3507, 1460, 3514, 3515, 1469, 1471, 1473, 1474, 3523, 1480, 1483, 5580, 1491, 1492, 7637, 1494, 7643, 1501, 1505, 3557, 1510, 3564, 1517, 1518, 11756, 1520, 1522, 24052, 11765, 1526, 1528, 1529, 1532, 3582, 3584, 3586, 1539, 1541, 9738, 3594, 17933, 1551, 1552, 9746, 9748, 1562, 1564, 9762, 5667, 5679, 15941, 3673, 1626, 11868, 1629, 5724, 3679, 1634, 3683, 1636, 1647, 1650, 1657, 20090, 1661, 1663, 1665, 1669, 26247, 7817, 5776, 1683, 1684, 5782, 1690, 1692, 1694, 5792, 22180, 1701, 1702, 16036, 63147, 1716, 26292, 1718, 5812, 1720, 5813, 3774, 1727, 7872, 3780, 5831, 5832, 7881, 1738, 1748, 7896, 1754, 7900, 1767, 71400, 71403, 71404, 1778, 3827, 3828, 3830, 7935, 7949, 3854, 20241, 10002, 5908, 5916, 22300, 5918, 5917, 1831, 3879, 3880, 16169, 1835, 1836, 3887, 5939, 5941, 1846, 1847, 1849, 3898, 5951, 5952, 1857, 1859, 1860, 1863, 1865, 1866, 1867, 5967, 3921, 3923, 1876, 3925, 1885, 8032, 5992, 3952, 6001, 1912, 16250, 8060, 1918, 3968, 3985, 4001, 4003, 6053, 6055, 4010, 4017, 4038, 4040, 4045, 16334, 4051, 8149, 8158, 6114, 20452, 4080, 2033, 2037, 2043, 8188}\n"
     ]
    }
   ],
   "source": [
    "# Define the two hub nodes\n",
    "node_a = 18\n",
    "node_b = 143\n",
    "\n",
    "# Check if the hubs are connected\n",
    "if G.has_edge(node_a, node_b):\n",
    "    print(f'The hubs {node_a} and {node_b} are directly connected.')\n",
    "else:\n",
    "    print(f'The hubs {node_a} and {node_b} are not directly connected.')\n",
    "    \n",
    "    # If not directly connected, find the shortest path (if it exists)\n",
    "    try:\n",
    "        path = nx.shortest_path(G, node_a, node_b)\n",
    "        print(f'The shortest path between {node_a} and {node_b} is: {path}')\n",
    "    except nx.NetworkXNoPath:\n",
    "        print(f'There is no path between {node_a} and {node_b}.')\n",
    "\n",
    "# Get the predecessors of the target nodes\n",
    "predecessors_a = set(G.predecessors(node_a))\n",
    "predecessors_b = set(G.predecessors(node_b))\n",
    "\n",
    "# Find nodes that have outgoing edges to both target nodes\n",
    "common_predecessors = predecessors_a & predecessors_b\n",
    "\n",
    "# Output the result\n",
    "print(f'There are {len(common_predecessors)} nodes with outgoing edges to both {node_a} and {node_b}: {common_predecessors}')"
   ]
  },
  {
   "cell_type": "code",
   "execution_count": null,
   "metadata": {},
   "outputs": [
    {
     "name": "stdout",
     "output_type": "stream",
     "text": [
      "Top 5 nodes by degree centrality: [(18, 0.04057829673950289), (645, 0.029112522733862254), (634, 0.026344922111811067), (763, 0.02585729724030681), (143, 0.022298953583383855)]\n"
     ]
    },
    {
     "ename": "KeyboardInterrupt",
     "evalue": "",
     "output_type": "error",
     "traceback": [
      "\u001b[0;31m---------------------------------------------------------------------------\u001b[0m",
      "\u001b[0;31mKeyboardInterrupt\u001b[0m                         Traceback (most recent call last)",
      "Cell \u001b[0;32mIn[162], line 6\u001b[0m\n\u001b[1;32m      3\u001b[0m \u001b[38;5;28mprint\u001b[39m(\u001b[38;5;124m\"\u001b[39m\u001b[38;5;124mTop 5 nodes by degree centrality:\u001b[39m\u001b[38;5;124m\"\u001b[39m, \u001b[38;5;28msorted\u001b[39m(degree_centrality\u001b[38;5;241m.\u001b[39mitems(), key\u001b[38;5;241m=\u001b[39m\u001b[38;5;28;01mlambda\u001b[39;00m x: x[\u001b[38;5;241m1\u001b[39m], reverse\u001b[38;5;241m=\u001b[39m\u001b[38;5;28;01mTrue\u001b[39;00m)[:\u001b[38;5;241m5\u001b[39m])\n\u001b[1;32m      5\u001b[0m \u001b[38;5;66;03m# Betweenness centrality (for larger graphs, consider approximations)\u001b[39;00m\n\u001b[0;32m----> 6\u001b[0m betweenness_centrality \u001b[38;5;241m=\u001b[39m nx\u001b[38;5;241m.\u001b[39mbetweenness_centrality(G, k\u001b[38;5;241m=\u001b[39m\u001b[38;5;241m100\u001b[39m, seed\u001b[38;5;241m=\u001b[39m\u001b[38;5;241m42\u001b[39m)  \u001b[38;5;66;03m# Using sample for speed\u001b[39;00m\n\u001b[1;32m      7\u001b[0m \u001b[38;5;28mprint\u001b[39m(\u001b[38;5;124m\"\u001b[39m\u001b[38;5;124mTop 5 nodes by betweenness centrality:\u001b[39m\u001b[38;5;124m\"\u001b[39m, \u001b[38;5;28msorted\u001b[39m(betweenness_centrality\u001b[38;5;241m.\u001b[39mitems(), key\u001b[38;5;241m=\u001b[39m\u001b[38;5;28;01mlambda\u001b[39;00m x: x[\u001b[38;5;241m1\u001b[39m], reverse\u001b[38;5;241m=\u001b[39m\u001b[38;5;28;01mTrue\u001b[39;00m)[:\u001b[38;5;241m5\u001b[39m])\n",
      "File \u001b[0;32m<class 'networkx.utils.decorators.argmap'> compilation 24:4\u001b[0m, in \u001b[0;36margmap_betweenness_centrality_21\u001b[0;34m(G, k, normalized, weight, endpoints, seed, backend, **backend_kwargs)\u001b[0m\n\u001b[1;32m      2\u001b[0m \u001b[38;5;28;01mimport\u001b[39;00m \u001b[38;5;21;01mcollections\u001b[39;00m\n\u001b[1;32m      3\u001b[0m \u001b[38;5;28;01mimport\u001b[39;00m \u001b[38;5;21;01mgzip\u001b[39;00m\n\u001b[0;32m----> 4\u001b[0m \u001b[38;5;28;01mimport\u001b[39;00m \u001b[38;5;21;01minspect\u001b[39;00m\n\u001b[1;32m      5\u001b[0m \u001b[38;5;28;01mimport\u001b[39;00m \u001b[38;5;21;01mitertools\u001b[39;00m\n\u001b[1;32m      6\u001b[0m \u001b[38;5;28;01mimport\u001b[39;00m \u001b[38;5;21;01mre\u001b[39;00m\n",
      "File \u001b[0;32m~/anaconda3/lib/python3.12/site-packages/networkx/utils/backends.py:412\u001b[0m, in \u001b[0;36m_dispatch.__call__\u001b[0;34m(self, backend, *args, **kwargs)\u001b[0m\n\u001b[1;32m    409\u001b[0m \u001b[38;5;28;01mdef\u001b[39;00m \u001b[38;5;21m__call__\u001b[39m(\u001b[38;5;28mself\u001b[39m, \u001b[38;5;241m/\u001b[39m, \u001b[38;5;241m*\u001b[39margs, backend\u001b[38;5;241m=\u001b[39m\u001b[38;5;28;01mNone\u001b[39;00m, \u001b[38;5;241m*\u001b[39m\u001b[38;5;241m*\u001b[39mkwargs):\n\u001b[1;32m    410\u001b[0m     \u001b[38;5;28;01mif\u001b[39;00m \u001b[38;5;129;01mnot\u001b[39;00m backends:\n\u001b[1;32m    411\u001b[0m         \u001b[38;5;66;03m# Fast path if no backends are installed\u001b[39;00m\n\u001b[0;32m--> 412\u001b[0m         \u001b[38;5;28;01mreturn\u001b[39;00m \u001b[38;5;28mself\u001b[39m\u001b[38;5;241m.\u001b[39morig_func(\u001b[38;5;241m*\u001b[39margs, \u001b[38;5;241m*\u001b[39m\u001b[38;5;241m*\u001b[39mkwargs)\n\u001b[1;32m    414\u001b[0m     \u001b[38;5;66;03m# Use `backend_name` in this function instead of `backend`\u001b[39;00m\n\u001b[1;32m    415\u001b[0m     backend_name \u001b[38;5;241m=\u001b[39m backend\n",
      "File \u001b[0;32m~/anaconda3/lib/python3.12/site-packages/networkx/algorithms/centrality/betweenness.py:136\u001b[0m, in \u001b[0;36mbetweenness_centrality\u001b[0;34m(G, k, normalized, weight, endpoints, seed)\u001b[0m\n\u001b[1;32m    133\u001b[0m \u001b[38;5;28;01mfor\u001b[39;00m s \u001b[38;5;129;01min\u001b[39;00m nodes:\n\u001b[1;32m    134\u001b[0m     \u001b[38;5;66;03m# single source shortest paths\u001b[39;00m\n\u001b[1;32m    135\u001b[0m     \u001b[38;5;28;01mif\u001b[39;00m weight \u001b[38;5;129;01mis\u001b[39;00m \u001b[38;5;28;01mNone\u001b[39;00m:  \u001b[38;5;66;03m# use BFS\u001b[39;00m\n\u001b[0;32m--> 136\u001b[0m         S, P, sigma, _ \u001b[38;5;241m=\u001b[39m _single_source_shortest_path_basic(G, s)\n\u001b[1;32m    137\u001b[0m     \u001b[38;5;28;01melse\u001b[39;00m:  \u001b[38;5;66;03m# use Dijkstra's algorithm\u001b[39;00m\n\u001b[1;32m    138\u001b[0m         S, P, sigma, _ \u001b[38;5;241m=\u001b[39m _single_source_dijkstra_path_basic(G, s, weight)\n",
      "File \u001b[0;32m~/anaconda3/lib/python3.12/site-packages/networkx/algorithms/centrality/betweenness.py:270\u001b[0m, in \u001b[0;36m_single_source_shortest_path_basic\u001b[0;34m(G, s)\u001b[0m\n\u001b[1;32m    268\u001b[0m Dv \u001b[38;5;241m=\u001b[39m D[v]\n\u001b[1;32m    269\u001b[0m sigmav \u001b[38;5;241m=\u001b[39m sigma[v]\n\u001b[0;32m--> 270\u001b[0m \u001b[38;5;28;01mfor\u001b[39;00m w \u001b[38;5;129;01min\u001b[39;00m G[v]:\n\u001b[1;32m    271\u001b[0m     \u001b[38;5;28;01mif\u001b[39;00m w \u001b[38;5;129;01mnot\u001b[39;00m \u001b[38;5;129;01min\u001b[39;00m D:\n\u001b[1;32m    272\u001b[0m         Q\u001b[38;5;241m.\u001b[39mappend(w)\n",
      "File \u001b[0;32m~/anaconda3/lib/python3.12/site-packages/networkx/classes/graph.py:513\u001b[0m, in \u001b[0;36mGraph.__getitem__\u001b[0;34m(self, n)\u001b[0m\n\u001b[1;32m    489\u001b[0m \u001b[38;5;28;01mdef\u001b[39;00m \u001b[38;5;21m__getitem__\u001b[39m(\u001b[38;5;28mself\u001b[39m, n):\n\u001b[1;32m    490\u001b[0m \u001b[38;5;250m    \u001b[39m\u001b[38;5;124;03m\"\"\"Returns a dict of neighbors of node n.  Use: 'G[n]'.\u001b[39;00m\n\u001b[1;32m    491\u001b[0m \n\u001b[1;32m    492\u001b[0m \u001b[38;5;124;03m    Parameters\u001b[39;00m\n\u001b[0;32m   (...)\u001b[0m\n\u001b[1;32m    511\u001b[0m \u001b[38;5;124;03m    AtlasView({1: {}})\u001b[39;00m\n\u001b[1;32m    512\u001b[0m \u001b[38;5;124;03m    \"\"\"\u001b[39;00m\n\u001b[0;32m--> 513\u001b[0m     \u001b[38;5;28;01mreturn\u001b[39;00m \u001b[38;5;28mself\u001b[39m\u001b[38;5;241m.\u001b[39madj[n]\n",
      "File \u001b[0;32m~/anaconda3/lib/python3.12/site-packages/networkx/classes/coreviews.py:81\u001b[0m, in \u001b[0;36mAdjacencyView.__getitem__\u001b[0;34m(self, name)\u001b[0m\n\u001b[1;32m     80\u001b[0m \u001b[38;5;28;01mdef\u001b[39;00m \u001b[38;5;21m__getitem__\u001b[39m(\u001b[38;5;28mself\u001b[39m, name):\n\u001b[0;32m---> 81\u001b[0m     \u001b[38;5;28;01mreturn\u001b[39;00m AtlasView(\u001b[38;5;28mself\u001b[39m\u001b[38;5;241m.\u001b[39m_atlas[name])\n",
      "File \u001b[0;32m~/anaconda3/lib/python3.12/site-packages/networkx/classes/coreviews.py:43\u001b[0m, in \u001b[0;36mAtlasView.__init__\u001b[0;34m(self, d)\u001b[0m\n\u001b[1;32m     40\u001b[0m \u001b[38;5;28;01mdef\u001b[39;00m \u001b[38;5;21m__setstate__\u001b[39m(\u001b[38;5;28mself\u001b[39m, state):\n\u001b[1;32m     41\u001b[0m     \u001b[38;5;28mself\u001b[39m\u001b[38;5;241m.\u001b[39m_atlas \u001b[38;5;241m=\u001b[39m state[\u001b[38;5;124m\"\u001b[39m\u001b[38;5;124m_atlas\u001b[39m\u001b[38;5;124m\"\u001b[39m]\n\u001b[0;32m---> 43\u001b[0m \u001b[38;5;28;01mdef\u001b[39;00m \u001b[38;5;21m__init__\u001b[39m(\u001b[38;5;28mself\u001b[39m, d):\n\u001b[1;32m     44\u001b[0m     \u001b[38;5;28mself\u001b[39m\u001b[38;5;241m.\u001b[39m_atlas \u001b[38;5;241m=\u001b[39m d\n\u001b[1;32m     46\u001b[0m \u001b[38;5;28;01mdef\u001b[39;00m \u001b[38;5;21m__len__\u001b[39m(\u001b[38;5;28mself\u001b[39m):\n",
      "\u001b[0;31mKeyboardInterrupt\u001b[0m: "
     ]
    }
   ],
   "source": [
    "# Degree centrality\n",
    "degree_centrality = nx.degree_centrality(G)\n",
    "print(\"Top 20 nodes by degree centrality:\", sorted(degree_centrality.items(), key=lambda x: x[1], reverse=True)[:20])\n",
    "\n",
    "# Betweenness centrality (for larger graphs, consider approximations)\n",
    "betweenness_centrality = nx.betweenness_centrality(G)\n",
    "print(\"Top 20 nodes by betweenness centrality:\", sorted(betweenness_centrality.items(), key=lambda x: x[1], reverse=True)[:20])"
   ]
  },
  {
   "cell_type": "markdown",
   "metadata": {},
   "source": [
    "## Core network"
   ]
  },
  {
   "cell_type": "code",
   "execution_count": 3,
   "metadata": {},
   "outputs": [],
   "source": [
    "def get_core_nodes(graph, threshold):\n",
    "    \"\"\"\n",
    "    Recursively removes nodes with in-degree + out-degree < threshold and returns the core graph.\n",
    "    \n",
    "    Parameters:\n",
    "    - graph: A NetworkX DiGraph (directed graph)\n",
    "    \n",
    "    Returns:\n",
    "    - A NetworkX DiGraph representing the core of the network\n",
    "    \"\"\"\n",
    "    # Create a copy of the graph to avoid modifying the original\n",
    "    core_graph = graph.copy()\n",
    "    \n",
    "    count = 0\n",
    "    number_of_removed = 0\n",
    "    while True:\n",
    "        # Identify nodes with in-degree + out-degree < threshold\n",
    "        nodes_to_remove = [\n",
    "            node for node in core_graph.nodes \n",
    "            if core_graph.in_degree(node) + core_graph.out_degree(node) < threshold\n",
    "        ]\n",
    "        \n",
    "        # Exit condition - if no nodes meet the condition, stop the process\n",
    "        if not nodes_to_remove:\n",
    "            break\n",
    "        \n",
    "        # Remove the identified nodes\n",
    "        core_graph.remove_nodes_from(nodes_to_remove)\n",
    "        number_of_removed += len(nodes_to_remove)\n",
    "        print(f'Iteration {count}: removed {len(nodes_to_remove)} nodes')\n",
    "        count += 1\n",
    "    print(f'Executed {count} iterations, removed {number_of_removed} nodes')\n",
    "    return core_graph"
   ]
  },
  {
   "cell_type": "code",
   "execution_count": 7,
   "metadata": {},
   "outputs": [
    {
     "name": "stdout",
     "output_type": "stream",
     "text": [
      "Iteration 0: removed 71953 nodes\n",
      "Iteration 1: removed 1123 nodes\n",
      "Iteration 2: removed 256 nodes\n",
      "Iteration 3: removed 107 nodes\n",
      "Iteration 4: removed 48 nodes\n",
      "Iteration 5: removed 27 nodes\n",
      "Iteration 6: removed 8 nodes\n",
      "Iteration 7: removed 4 nodes\n",
      "Iteration 8: removed 2 nodes\n",
      "Iteration 9: removed 2 nodes\n",
      "Iteration 10: removed 4 nodes\n",
      "Iteration 11: removed 2 nodes\n",
      "Iteration 12: removed 1 nodes\n",
      "Iteration 13: removed 2 nodes\n",
      "Executed 14 iterations, removed 73539 nodes\n",
      "Original Graph: 75879 nodes, 508837 edges\n",
      "Core Graph: 2340 nodes, 167130 edges\n"
     ]
    }
   ],
   "source": [
    "# Get the core graph\n",
    "threshold = 55 # it was 4\n",
    "core_G = get_core_nodes(G, threshold)\n",
    "# Print the number of nodes and edges in the original and core graphs\n",
    "print(f\"Original Graph: {G.number_of_nodes()} nodes, {G.number_of_edges()} edges\")\n",
    "print(f\"Core Graph: {core_G.number_of_nodes()} nodes, {core_G.number_of_edges()} edges\")"
   ]
  },
  {
   "cell_type": "markdown",
   "metadata": {},
   "source": [
    "The core graph has the 30,87% of node of the original graph."
   ]
  },
  {
   "cell_type": "code",
   "execution_count": 5,
   "metadata": {},
   "outputs": [
    {
     "ename": "NameError",
     "evalue": "name 'compute_degree' is not defined",
     "output_type": "error",
     "traceback": [
      "\u001b[0;31m---------------------------------------------------------------------------\u001b[0m",
      "\u001b[0;31mNameError\u001b[0m                                 Traceback (most recent call last)",
      "\u001b[0;32m<ipython-input-5-e776bbf7a947>\u001b[0m in \u001b[0;36m<module>\u001b[0;34m\u001b[0m\n\u001b[0;32m----> 1\u001b[0;31m \u001b[0mcore_degree_data\u001b[0m \u001b[0;34m=\u001b[0m \u001b[0mcompute_degree\u001b[0m\u001b[0;34m(\u001b[0m\u001b[0mcore_G\u001b[0m\u001b[0;34m)\u001b[0m\u001b[0;34m\u001b[0m\u001b[0;34m\u001b[0m\u001b[0m\n\u001b[0m\u001b[1;32m      2\u001b[0m \u001b[0;34m\u001b[0m\u001b[0m\n\u001b[1;32m      3\u001b[0m \u001b[0mcore_node_data\u001b[0m \u001b[0;34m=\u001b[0m \u001b[0mlist\u001b[0m\u001b[0;34m(\u001b[0m\u001b[0mzip\u001b[0m\u001b[0;34m(\u001b[0m\u001b[0mcore_degree_data\u001b[0m\u001b[0;34m[\u001b[0m\u001b[0;34m\"Node\"\u001b[0m\u001b[0;34m]\u001b[0m\u001b[0;34m,\u001b[0m \u001b[0mcore_degree_data\u001b[0m\u001b[0;34m[\u001b[0m\u001b[0;34m\"In-Degree\"\u001b[0m\u001b[0;34m]\u001b[0m\u001b[0;34m,\u001b[0m \u001b[0mcore_degree_data\u001b[0m\u001b[0;34m[\u001b[0m\u001b[0;34m\"Out-Degree\"\u001b[0m\u001b[0;34m]\u001b[0m\u001b[0;34m)\u001b[0m\u001b[0;34m)\u001b[0m\u001b[0;34m\u001b[0m\u001b[0;34m\u001b[0m\u001b[0m\n\u001b[1;32m      4\u001b[0m \u001b[0;34m\u001b[0m\u001b[0m\n\u001b[1;32m      5\u001b[0m \u001b[0;31m# Sort by In-Degree in descending order and take the top 5\u001b[0m\u001b[0;34m\u001b[0m\u001b[0;34m\u001b[0m\u001b[0;34m\u001b[0m\u001b[0m\n",
      "\u001b[0;31mNameError\u001b[0m: name 'compute_degree' is not defined"
     ]
    }
   ],
   "source": [
    "core_degree_data = compute_degree(core_G)\n",
    "\n",
    "core_node_data = list(zip(core_degree_data[\"Node\"], core_degree_data[\"In-Degree\"], core_degree_data[\"Out-Degree\"]))\n",
    "\n",
    "# Sort by In-Degree in descending order and take the top 5\n",
    "core_top_in_degree = sorted(core_node_data, key=lambda x: x[1], reverse=True)[:5]\n",
    "\n",
    "# Sort by Out-Degree in descending order and take the top 5\n",
    "core_top_out_degree = sorted(core_node_data, key=lambda x: x[2], reverse=True)[:5]\n",
    "\n",
    "# Display results\n",
    "print(\"Top 5 nodes by In-Degree:\", core_top_in_degree)\n",
    "print(\"Top 5 nodes by Out-Degree:\", core_top_out_degree)"
   ]
  },
  {
   "cell_type": "markdown",
   "metadata": {},
   "source": [
    "## Random network"
   ]
  },
  {
   "cell_type": "code",
   "execution_count": null,
   "metadata": {},
   "outputs": [],
   "source": []
  },
  {
   "cell_type": "code",
   "execution_count": null,
   "metadata": {},
   "outputs": [
    {
     "data": {
      "text/plain": [
       "<networkx.classes.digraph.DiGraph at 0x7fc7d75fbe60>"
      ]
     },
     "execution_count": 35,
     "metadata": {},
     "output_type": "execute_result"
    }
   ],
   "source": []
  },
  {
   "cell_type": "code",
   "execution_count": null,
   "metadata": {},
   "outputs": [],
   "source": []
  },
  {
   "cell_type": "code",
   "execution_count": null,
   "metadata": {},
   "outputs": [],
   "source": []
  },
  {
   "cell_type": "code",
   "execution_count": 13,
   "metadata": {},
   "outputs": [
    {
     "data": {
      "image/png": "[encoded data removed]",
      "text/plain": [
       "<Figure size 640x480 with 1 Axes>"
      ]
     },
     "metadata": {},
     "output_type": "display_data"
    }
   ],
   "source": [
    "# Compute in-degree and out-degree distributions\n",
    "in_degrees = [G_wcc.in_degree(n) for n in G_wcc.nodes()]\n",
    "out_degrees = [G_wcc.out_degree(n) for n in G_wcc.nodes()]\n",
    "\n",
    "# Plot in-degree distribution\n",
    "plt.hist(in_degrees, bins=5, color='blue', alpha=0.7, label='In-degree')\n",
    "plt.hist(out_degrees, bins=5, color='red', alpha=0.7, label='Out-degree')\n",
    "plt.xlabel(\"Degree\")\n",
    "plt.ylabel(\"Frequency\")\n",
    "plt.legend()\n",
    "plt.title(\"Degree Distribution\")\n",
    "plt.show()"
   ]
  },
  {
   "cell_type": "code",
   "execution_count": 14,
   "metadata": {},
   "outputs": [
    {
     "name": "stdout",
     "output_type": "stream",
     "text": [
      "Average Clustering Coefficient: 0.13776000443673458\n"
     ]
    }
   ],
   "source": [
    "# Calculate the average clustering coefficient\n",
    "avg_clustering = nx.average_clustering(G_wcc.to_undirected())  # Convert to undirected for clustering\n",
    "print(\"Average Clustering Coefficient:\", avg_clustering)"
   ]
  },
  {
   "cell_type": "code",
   "execution_count": null,
   "metadata": {},
   "outputs": [
    {
     "name": "stdout",
     "output_type": "stream",
     "text": [
      "Error calculating shortest path length: name 'G_wcc' is not defined\n"
     ]
    }
   ],
   "source": [
    "# Calculate the average shortest path length\n",
    "# This can be computationally intensive; only use on smaller graphs or expect it to take time\n",
    "try:\n",
    "    avg_shortest_path_length = nx.average_shortest_path_length(G_wcc)\n",
    "    print(\"Average Shortest Path Length:\", avg_shortest_path_length)\n",
    "except Exception as e:\n",
    "    print(\"Error calculating shortest path length:\", e)"
   ]
  },
  {
   "cell_type": "code",
   "execution_count": null,
   "metadata": {},
   "outputs": [
    {
     "name": "stdout",
     "output_type": "stream",
     "text": [
      "Assortativity Coefficient: -0.04128687053958363\n"
     ]
    }
   ],
   "source": [
    "# Calculate assortativity coefficient\n",
    "assortativity = nx.degree_assortativity_coefficient(G_wcc)\n",
    "print(\"Assortativity Coefficient:\", assortativity)"
   ]
  },
  {
   "cell_type": "code",
   "execution_count": null,
   "metadata": {},
   "outputs": [],
   "source": [
    "nx.draw_networkx(G, node_size=1000, node_color='lightblue', with_labels=True, font_size=8)"
   ]
  },
  {
   "cell_type": "markdown",
   "metadata": {},
   "source": [
    "## Partitions"
   ]
  },
  {
   "cell_type": "markdown",
   "metadata": {},
   "source": [
    "It will be created random partitions (3 and 9) of both the full graph and the core graph."
   ]
  },
  {
   "cell_type": "code",
   "execution_count": 15,
   "metadata": {},
   "outputs": [
    {
     "name": "stdout",
     "output_type": "stream",
     "text": [
      "3 random partition of the full graph were obtained, each one with 25293 nodes.\n",
      "9 random partition of the full graph were obtained, each one with 8431.\n",
      "3 random partition of the core graph were obtained, around 7834 nodes in each partitions.\n",
      "9 random partition of the core graph were obtained, around 2611 nodes in each partitions.\n",
      "27 random partition of the core graph were obtained, around 870 nodes in each partitions.\n"
     ]
    }
   ],
   "source": [
    "# 3 partitions from original graph (75879 nodes)\n",
    "random_nodes = random.sample(list(G.nodes), 25293)\n",
    "random_partition = [set(random_nodes), set(G.nodes) - set(random_nodes)]\n",
    "if nx.community.is_partition(G, random_partition) == True:\n",
    "    print(\"3 random partition of the full graph were obtained, each one with 25293 nodes.\")\n",
    "\n",
    "\n",
    "# 9 partition from original graph\n",
    "random_nodes_2 = random.sample(list(G.nodes), 8431)\n",
    "random_partition_2 = [set(random_nodes_2), set(G.nodes) - set(random_nodes_2)]\n",
    "if nx.community.is_partition(G, random_partition_2) == True:\n",
    "    print(\"9 random partition of the full graph were obtained, each one with 8431.\")\n",
    "\n",
    "\n",
    "# 3 partitions from core graph (23503 nodes)\n",
    "random_nodes_3 = random.sample(list(core_G.nodes), 7834)\n",
    "random_partition_3 = [set(random_nodes_3), set(core_G.nodes) - set(random_nodes_3)]\n",
    "if nx.community.is_partition(core_G, random_partition_3) == True:\n",
    "    print(\"3 random partition of the core graph were obtained, around 7834 nodes in each partitions.\")\n",
    "\n",
    "# 9 partition from core graph\n",
    "random_nodes_4 = random.sample(list(core_G.nodes), 2611)\n",
    "random_partition_4 = [set(random_nodes_4), set(core_G.nodes) - set(random_nodes_4)]\n",
    "if nx.community.is_partition(core_G, random_partition_4) == True:\n",
    "    print(\"9 random partition of the core graph were obtained, around 2611 nodes in each partitions.\")\n",
    "\n",
    "# 27 partition from core graph\n",
    "random_nodes_5 = random.sample(list(core_G.nodes), 870)\n",
    "random_partition_5 = [set(random_nodes_5), set(core_G.nodes) - set(random_nodes_5)]\n",
    "if nx.community.is_partition(core_G, random_partition_5) == True:\n",
    "    print(\"27 random partition of the core graph were obtained, around 870 nodes in each partitions.\")"
   ]
  },
  {
   "cell_type": "code",
   "execution_count": 16,
   "metadata": {},
   "outputs": [
    {
     "name": "stdout",
     "output_type": "stream",
     "text": [
      "False\n",
      "True\n",
      "False\n",
      "True\n",
      "True\n"
     ]
    }
   ],
   "source": [
    "#This function verify if the nodes are in the same partitions:\n",
    "\n",
    "def make_partition_map(partition):\n",
    "    partition_map = {}\n",
    "    for idx, cluster_nodes in enumerate(partition):\n",
    "        for node in cluster_nodes:\n",
    "            partition_map[node] = idx\n",
    "    return partition_map\n",
    "\n",
    "\n",
    "pmap = make_partition_map(random_partition)\n",
    "pmap2 = make_partition_map(random_partition_2)\n",
    "pmap3 = make_partition_map(random_partition_3)\n",
    "pmap4 = make_partition_map(random_partition_4)\n",
    "pmap5 = make_partition_map(random_partition_5)\n",
    "\n",
    "# Let's control for the interesting nodes: (well, there are random partitions, is not particularly interesting)\n",
    "print(pmap[18] == pmap[143])\n",
    "print(pmap2[18] == pmap2[143])\n",
    "print(pmap3[18] == pmap3[143])\n",
    "print(pmap4[18] == pmap4[143])\n",
    "print(pmap5[18] == pmap5[143])"
   ]
  },
  {
   "cell_type": "markdown",
   "metadata": {},
   "source": [
    "## Modularity\n",
    "\n",
    "The modularity of a graph partition compares the number of intra-group edges with a random baseline. Higher modularity scores correspond to a **higher proportion of intra-group edges**, therefore **fewer inter-group edges** and better separation of groups.\n",
    "\n",
    "$$ Q_w=\\frac{1}{W}\\sum_C \\left(W_C-\\frac{s_C^2}{4W}\\right) $$\n",
    "    \n",
    "where \n",
    "* $W$ is the total weight of the links of the network,\n",
    "* $W_C$ the total weight of the internal links of cluster $C$, and\n",
    "* $s_C$ the total strength of the nodes of $C$.\n"
   ]
  },
  {
   "cell_type": "code",
   "execution_count": 17,
   "metadata": {},
   "outputs": [
    {
     "name": "stdout",
     "output_type": "stream",
     "text": [
      "Modularity -0.0003\n",
      "Modularity -0.0010\n",
      "Modularity -0.0011\n",
      "Modularity -0.0001\n",
      "Modularity -0.0001\n"
     ]
    }
   ],
   "source": [
    "# Modularity of first partition of the full graph\n",
    "print(\"Modularity %7.4f\" % nx.community.quality.modularity(G, random_partition))\n",
    "\n",
    "# Modularity of second partition of the full graph\n",
    "print(\"Modularity %7.4f\" % nx.community.quality.modularity(G, random_partition_2))\n",
    "\n",
    "# Modularity of first partition of the core graph\n",
    "print(\"Modularity %7.4f\" % nx.community.quality.modularity(core_G, random_partition_3))\n",
    "      \n",
    "# Modularity of second partition of the core graph\n",
    "print(\"Modularity %7.4f\" % nx.community.quality.modularity(core_G, random_partition_4))\n",
    "\n",
    "# Modularity of third partition of the core graph\n",
    "print(\"Modularity %7.4f\" % nx.community.quality.modularity(core_G, random_partition_5))"
   ]
  },
  {
   "cell_type": "markdown",
   "metadata": {},
   "source": [
    "Since this is a random process the modularity won't be exactly zero, but it should be fairly close."
   ]
  },
  {
   "cell_type": "markdown",
   "metadata": {},
   "source": [
    "### Create the Adjacencies and the Laplacian of a Graph\n",
    "\n",
    "Now it will be created the adjaceny and laplacian matrix from the set of nodes."
   ]
  },
  {
   "cell_type": "code",
   "execution_count": 4,
   "metadata": {},
   "outputs": [],
   "source": [
    "def compute_graph_matrices(core_graph):\n",
    "    \"\"\"\n",
    "    Computes the adjacency, degree, and Laplacian matrices for a core graph.\n",
    "\n",
    "    Parameters:\n",
    "    - core_graph: A NetworkX DiGraph (the core graph)\n",
    "\n",
    "    Returns:\n",
    "    - adjacency_matrix: A NumPy array (core_graph size x core_graph size)\n",
    "    - degree_matrix: A sparse diagonal matrix (scipy.sparse)\n",
    "    - laplacian_matrix: A sparse Laplacian matrix (scipy.sparse)\n",
    "    - core_nodes: A list of node labels in the order they appear in the matrix\n",
    "    \"\"\"\n",
    "    # Get the nodes of the core graph sorted by their original labels\n",
    "    core_nodes = sorted(core_graph.nodes)\n",
    "    node_mapping = {node: idx for idx, node in enumerate(core_nodes)}\n",
    "    \n",
    "    # Initialize adjacency matrix of size (core_graph size x core_graph size)\n",
    "    size = len(core_nodes)\n",
    "    adjacency_matrix = np.zeros((size, size))\n",
    "    \n",
    "    # Populate the adjacency matrix\n",
    "    for u, v in core_graph.edges:\n",
    "        adjacency_matrix[node_mapping[u], node_mapping[v]] = 1  # Directed edge from u to v\n",
    "\n",
    "    # Compute the degree for each node (sum of rows in the adjacency matrix)\n",
    "    degrees = np.sum(adjacency_matrix, axis=1)\n",
    "    \n",
    "    # Create the degree matrix as a sparse diagonal matrix\n",
    "    degree_matrix = diags(degrees, offsets=0, format=\"csr\")\n",
    "    \n",
    "    # Compute the Laplacian matrix\n",
    "    laplacian_matrix = degree_matrix - csr_matrix(adjacency_matrix)\n",
    "\n",
    "    return adjacency_matrix, degree_matrix, laplacian_matrix, core_nodes"
   ]
  },
  {
   "cell_type": "code",
   "execution_count": 5,
   "metadata": {},
   "outputs": [
    {
     "name": "stdout",
     "output_type": "stream",
     "text": [
      "Iteration 0: removed 49243 nodes\n",
      "Iteration 1: removed 2772 nodes\n",
      "Iteration 2: removed 309 nodes\n",
      "Iteration 3: removed 44 nodes\n",
      "Iteration 4: removed 8 nodes\n",
      "Executed 5 iterations, removed 52376 nodes\n",
      "Original Graph: 75879 nodes, 508837 edges\n",
      "Core Graph: 23503 nodes, 431564 edges\n"
     ]
    }
   ],
   "source": [
    "# Get the core graph\n",
    "threshold = 4\n",
    "core_G = get_core_nodes(G, threshold)\n",
    "# Print the number of nodes and edges in the original and core graphs\n",
    "print(f\"Original Graph: {G.number_of_nodes()} nodes, {G.number_of_edges()} edges\")\n",
    "print(f\"Core Graph: {core_G.number_of_nodes()} nodes, {core_G.number_of_edges()} edges\")"
   ]
  },
  {
   "cell_type": "code",
   "execution_count": 6,
   "metadata": {},
   "outputs": [
    {
     "name": "stdout",
     "output_type": "stream",
     "text": [
      "(23503, 23503)\n"
     ]
    }
   ],
   "source": [
    "adjacency_matrix, degree_matrix, laplacian_matrix, core_nodes = compute_graph_matrices(core_G)\n",
    "\n",
    "# print an example\n",
    "print(laplacian_matrix.shape)"
   ]
  },
  {
   "cell_type": "markdown",
   "metadata": {},
   "source": [
    "And now eigenvalues and eigenvectors of Laplacian matrix"
   ]
  },
  {
   "cell_type": "code",
   "execution_count": null,
   "metadata": {},
   "outputs": [
    {
     "name": "stderr",
     "output_type": "stream",
     "text": [
      "/home/tommaso/anaconda3/envs/networks/lib/python3.7/site-packages/scipy/sparse/linalg/eigen/arpack/arpack.py:1592: RuntimeWarning: k >= N for N * N square matrix. Attempting to use scipy.linalg.eigh instead.\n",
      "  RuntimeWarning)\n"
     ]
    }
   ],
   "source": [
    "# Number of eigenvalues/vectors to compute (example: 6 smallest non-zero eigenvalues)\n",
    "\n",
    "k = core_G.number_of_nodes()\n",
    "\n",
    "start_time = time.time()\n",
    "# Compute eigenvalues and eigenvectors using ARPACK via eigsh\n",
    "eigenvalues, eigenvectors = linalg.eigsh(laplacian_matrix.toarray(), k=k, which='SM')  # SM: smallest magnitude\n",
    "elapsed_time = time.time() - start_time\n",
    "\n",
    "print (elapsed_time)\n",
    "\n",
    "# Output results\n",
    "# print(\"Eigenvalues:\", eigenvalues)\n",
    "print(\"Eigenvectors (shape):\", eigenvectors.shape)\n",
    "\n",
    "\n",
    "# Save the results to a file\n",
    "np.savez(\"eigenvalues_eigenvectors.npz\", eigenvalues=eigenvalues, eigenvectors=eigenvectors)\n",
    "\n",
    "print(\"Eigenvalues and eigenvectors have been saved to 'eigenvalues_eigenvectors.npz'\")"
   ]
  },
  {
   "cell_type": "code",
   "execution_count": null,
   "metadata": {},
   "outputs": [],
   "source": []
  },
  {
   "cell_type": "code",
   "execution_count": null,
   "metadata": {},
   "outputs": [
    {
     "data": {
      "image/png": "[encoded data removed]",
      "text/plain": [
       "<Figure size 432x288 with 1 Axes>"
      ]
     },
     "metadata": {
      "needs_background": "light"
     },
     "output_type": "display_data"
    }
   ],
   "source": [
    "plt.bar(core_nodes[0:k], eigenvalues)\n",
    "plt.grid()\n",
    "plt.show()"
   ]
  },
  {
   "cell_type": "code",
   "execution_count": 18,
   "metadata": {},
   "outputs": [],
   "source": [
    "eord = np.argsort(eigenvalues)\n",
    "L1=eigenvectors[:,eord[0]]\n",
    "L2=eigenvectors[:,eord[1]]\n",
    "L3=eigenvectors[:,eord[2]]"
   ]
  },
  {
   "cell_type": "code",
   "execution_count": 20,
   "metadata": {},
   "outputs": [
    {
     "data": {
      "image/png": "[encoded data removed]",
      "text/plain": [
       "<Figure size 432x288 with 1 Axes>"
      ]
     },
     "metadata": {
      "needs_background": "light"
     },
     "output_type": "display_data"
    }
   ],
   "source": [
    "plt.plot(core_nodes, L1, \".--\", label=\"Eigenvalues 1\")\n",
    "plt.ylim(-.5,.5)\n",
    "plt.grid()\n",
    "plt.legend()\n",
    "plt.show()\n"
   ]
  },
  {
   "cell_type": "code",
   "execution_count": 21,
   "metadata": {},
   "outputs": [
    {
     "data": {
      "image/png": "[encoded data removed]",
      "text/plain": [
       "<Figure size 432x288 with 1 Axes>"
      ]
     },
     "metadata": {
      "needs_background": "light"
     },
     "output_type": "display_data"
    }
   ],
   "source": [
    "plt.plot(core_nodes, L2, \".--\", label=\"Eigenvalues 2\")\n",
    "plt.ylim(-.5,.5)\n",
    "plt.grid()\n",
    "plt.legend()\n",
    "plt.show()"
   ]
  },
  {
   "cell_type": "code",
   "execution_count": 22,
   "metadata": {},
   "outputs": [],
   "source": [
    "def plotEigenVector(LL):\n",
    "    NN=LL.shape[0]\n",
    "    n_order=np.argsort(LL)\n",
    "    plt.plot(np.arange(NN), LL[n_order], \".--\")\n",
    "\n",
    "    for x,y in zip(np.arange(NN), LL[n_order]):\n",
    "        plt.annotate(core_nodes[n_order[x]], (x,y), textcoords=\"offset points\",\n",
    "                     xytext=(0,3), ha='center', size=6)\n",
    "    plt.grid()\n",
    "    plt.show()"
   ]
  },
  {
   "cell_type": "code",
   "execution_count": 23,
   "metadata": {},
   "outputs": [
    {
     "data": {
      "image/png": "[encoded data removed]",
      "text/plain": [
       "<Figure size 432x288 with 1 Axes>"
      ]
     },
     "metadata": {
      "needs_background": "light"
     },
     "output_type": "display_data"
    }
   ],
   "source": [
    "plotEigenVector(L2)"
   ]
  },
  {
   "cell_type": "code",
   "execution_count": null,
   "metadata": {},
   "outputs": [
    {
     "ename": "ValueError",
     "evalue": "x and y must have same first dimension, but have shapes (23502,) and (6,)",
     "output_type": "error",
     "traceback": [
      "\u001b[0;31m---------------------------------------------------------------------------\u001b[0m",
      "\u001b[0;31mValueError\u001b[0m                                Traceback (most recent call last)",
      "\u001b[0;32m<ipython-input-27-a262402b856d>\u001b[0m in \u001b[0;36m<module>\u001b[0;34m\u001b[0m\n\u001b[0;32m----> 1\u001b[0;31m \u001b[0mplt\u001b[0m\u001b[0;34m.\u001b[0m\u001b[0mplot\u001b[0m\u001b[0;34m(\u001b[0m\u001b[0mrange\u001b[0m\u001b[0;34m(\u001b[0m\u001b[0;36m1\u001b[0m\u001b[0;34m,\u001b[0m \u001b[0;36m23503\u001b[0m\u001b[0;34m)\u001b[0m\u001b[0;34m,\u001b[0m \u001b[0msorted\u001b[0m\u001b[0;34m(\u001b[0m\u001b[0meigenvalues\u001b[0m\u001b[0;34m)\u001b[0m\u001b[0;34m)\u001b[0m\u001b[0;34m\u001b[0m\u001b[0;34m\u001b[0m\u001b[0m\n\u001b[0m\u001b[1;32m      2\u001b[0m \u001b[0mplt\u001b[0m\u001b[0;34m.\u001b[0m\u001b[0mtitle\u001b[0m\u001b[0;34m(\u001b[0m\u001b[0;34m\"Eigengap Heuristic\"\u001b[0m\u001b[0;34m)\u001b[0m\u001b[0;34m\u001b[0m\u001b[0;34m\u001b[0m\u001b[0m\n\u001b[1;32m      3\u001b[0m \u001b[0mplt\u001b[0m\u001b[0;34m.\u001b[0m\u001b[0mxlabel\u001b[0m\u001b[0;34m(\u001b[0m\u001b[0;34m\"Index\"\u001b[0m\u001b[0;34m)\u001b[0m\u001b[0;34m\u001b[0m\u001b[0;34m\u001b[0m\u001b[0m\n\u001b[1;32m      4\u001b[0m \u001b[0mplt\u001b[0m\u001b[0;34m.\u001b[0m\u001b[0mylabel\u001b[0m\u001b[0;34m(\u001b[0m\u001b[0;34m\"Eigenvalue\"\u001b[0m\u001b[0;34m)\u001b[0m\u001b[0;34m\u001b[0m\u001b[0;34m\u001b[0m\u001b[0m\n\u001b[1;32m      5\u001b[0m \u001b[0mplt\u001b[0m\u001b[0;34m.\u001b[0m\u001b[0mshow\u001b[0m\u001b[0;34m(\u001b[0m\u001b[0;34m)\u001b[0m\u001b[0;34m\u001b[0m\u001b[0;34m\u001b[0m\u001b[0m\n",
      "\u001b[0;32m~/anaconda3/envs/networks/lib/python3.7/site-packages/matplotlib/pyplot.py\u001b[0m in \u001b[0;36mplot\u001b[0;34m(scalex, scaley, data, *args, **kwargs)\u001b[0m\n\u001b[1;32m   2767\u001b[0m     return gca().plot(\n\u001b[1;32m   2768\u001b[0m         \u001b[0;34m*\u001b[0m\u001b[0margs\u001b[0m\u001b[0;34m,\u001b[0m \u001b[0mscalex\u001b[0m\u001b[0;34m=\u001b[0m\u001b[0mscalex\u001b[0m\u001b[0;34m,\u001b[0m \u001b[0mscaley\u001b[0m\u001b[0;34m=\u001b[0m\u001b[0mscaley\u001b[0m\u001b[0;34m,\u001b[0m\u001b[0;34m\u001b[0m\u001b[0;34m\u001b[0m\u001b[0m\n\u001b[0;32m-> 2769\u001b[0;31m         **({\"data\": data} if data is not None else {}), **kwargs)\n\u001b[0m\u001b[1;32m   2770\u001b[0m \u001b[0;34m\u001b[0m\u001b[0m\n\u001b[1;32m   2771\u001b[0m \u001b[0;34m\u001b[0m\u001b[0m\n",
      "\u001b[0;32m~/anaconda3/envs/networks/lib/python3.7/site-packages/matplotlib/axes/_axes.py\u001b[0m in \u001b[0;36mplot\u001b[0;34m(self, scalex, scaley, data, *args, **kwargs)\u001b[0m\n\u001b[1;32m   1633\u001b[0m         \"\"\"\n\u001b[1;32m   1634\u001b[0m         \u001b[0mkwargs\u001b[0m \u001b[0;34m=\u001b[0m \u001b[0mcbook\u001b[0m\u001b[0;34m.\u001b[0m\u001b[0mnormalize_kwargs\u001b[0m\u001b[0;34m(\u001b[0m\u001b[0mkwargs\u001b[0m\u001b[0;34m,\u001b[0m \u001b[0mmlines\u001b[0m\u001b[0;34m.\u001b[0m\u001b[0mLine2D\u001b[0m\u001b[0;34m)\u001b[0m\u001b[0;34m\u001b[0m\u001b[0;34m\u001b[0m\u001b[0m\n\u001b[0;32m-> 1635\u001b[0;31m         \u001b[0mlines\u001b[0m \u001b[0;34m=\u001b[0m \u001b[0;34m[\u001b[0m\u001b[0;34m*\u001b[0m\u001b[0mself\u001b[0m\u001b[0;34m.\u001b[0m\u001b[0m_get_lines\u001b[0m\u001b[0;34m(\u001b[0m\u001b[0;34m*\u001b[0m\u001b[0margs\u001b[0m\u001b[0;34m,\u001b[0m \u001b[0mdata\u001b[0m\u001b[0;34m=\u001b[0m\u001b[0mdata\u001b[0m\u001b[0;34m,\u001b[0m \u001b[0;34m**\u001b[0m\u001b[0mkwargs\u001b[0m\u001b[0;34m)\u001b[0m\u001b[0;34m]\u001b[0m\u001b[0;34m\u001b[0m\u001b[0;34m\u001b[0m\u001b[0m\n\u001b[0m\u001b[1;32m   1636\u001b[0m         \u001b[0;32mfor\u001b[0m \u001b[0mline\u001b[0m \u001b[0;32min\u001b[0m \u001b[0mlines\u001b[0m\u001b[0;34m:\u001b[0m\u001b[0;34m\u001b[0m\u001b[0;34m\u001b[0m\u001b[0m\n\u001b[1;32m   1637\u001b[0m             \u001b[0mself\u001b[0m\u001b[0;34m.\u001b[0m\u001b[0madd_line\u001b[0m\u001b[0;34m(\u001b[0m\u001b[0mline\u001b[0m\u001b[0;34m)\u001b[0m\u001b[0;34m\u001b[0m\u001b[0;34m\u001b[0m\u001b[0m\n",
      "\u001b[0;32m~/anaconda3/envs/networks/lib/python3.7/site-packages/matplotlib/axes/_base.py\u001b[0m in \u001b[0;36m__call__\u001b[0;34m(self, data, *args, **kwargs)\u001b[0m\n\u001b[1;32m    310\u001b[0m                 \u001b[0mthis\u001b[0m \u001b[0;34m+=\u001b[0m \u001b[0margs\u001b[0m\u001b[0;34m[\u001b[0m\u001b[0;36m0\u001b[0m\u001b[0;34m]\u001b[0m\u001b[0;34m,\u001b[0m\u001b[0;34m\u001b[0m\u001b[0;34m\u001b[0m\u001b[0m\n\u001b[1;32m    311\u001b[0m                 \u001b[0margs\u001b[0m \u001b[0;34m=\u001b[0m \u001b[0margs\u001b[0m\u001b[0;34m[\u001b[0m\u001b[0;36m1\u001b[0m\u001b[0;34m:\u001b[0m\u001b[0;34m]\u001b[0m\u001b[0;34m\u001b[0m\u001b[0;34m\u001b[0m\u001b[0m\n\u001b[0;32m--> 312\u001b[0;31m             \u001b[0;32myield\u001b[0m \u001b[0;32mfrom\u001b[0m \u001b[0mself\u001b[0m\u001b[0;34m.\u001b[0m\u001b[0m_plot_args\u001b[0m\u001b[0;34m(\u001b[0m\u001b[0mthis\u001b[0m\u001b[0;34m,\u001b[0m \u001b[0mkwargs\u001b[0m\u001b[0;34m)\u001b[0m\u001b[0;34m\u001b[0m\u001b[0;34m\u001b[0m\u001b[0m\n\u001b[0m\u001b[1;32m    313\u001b[0m \u001b[0;34m\u001b[0m\u001b[0m\n\u001b[1;32m    314\u001b[0m     \u001b[0;32mdef\u001b[0m \u001b[0mget_next_color\u001b[0m\u001b[0;34m(\u001b[0m\u001b[0mself\u001b[0m\u001b[0;34m)\u001b[0m\u001b[0;34m:\u001b[0m\u001b[0;34m\u001b[0m\u001b[0;34m\u001b[0m\u001b[0m\n",
      "\u001b[0;32m~/anaconda3/envs/networks/lib/python3.7/site-packages/matplotlib/axes/_base.py\u001b[0m in \u001b[0;36m_plot_args\u001b[0;34m(self, tup, kwargs, return_kwargs)\u001b[0m\n\u001b[1;32m    496\u001b[0m \u001b[0;34m\u001b[0m\u001b[0m\n\u001b[1;32m    497\u001b[0m         \u001b[0;32mif\u001b[0m \u001b[0mx\u001b[0m\u001b[0;34m.\u001b[0m\u001b[0mshape\u001b[0m\u001b[0;34m[\u001b[0m\u001b[0;36m0\u001b[0m\u001b[0;34m]\u001b[0m \u001b[0;34m!=\u001b[0m \u001b[0my\u001b[0m\u001b[0;34m.\u001b[0m\u001b[0mshape\u001b[0m\u001b[0;34m[\u001b[0m\u001b[0;36m0\u001b[0m\u001b[0;34m]\u001b[0m\u001b[0;34m:\u001b[0m\u001b[0;34m\u001b[0m\u001b[0;34m\u001b[0m\u001b[0m\n\u001b[0;32m--> 498\u001b[0;31m             raise ValueError(f\"x and y must have same first dimension, but \"\n\u001b[0m\u001b[1;32m    499\u001b[0m                              f\"have shapes {x.shape} and {y.shape}\")\n\u001b[1;32m    500\u001b[0m         \u001b[0;32mif\u001b[0m \u001b[0mx\u001b[0m\u001b[0;34m.\u001b[0m\u001b[0mndim\u001b[0m \u001b[0;34m>\u001b[0m \u001b[0;36m2\u001b[0m \u001b[0;32mor\u001b[0m \u001b[0my\u001b[0m\u001b[0;34m.\u001b[0m\u001b[0mndim\u001b[0m \u001b[0;34m>\u001b[0m \u001b[0;36m2\u001b[0m\u001b[0;34m:\u001b[0m\u001b[0;34m\u001b[0m\u001b[0;34m\u001b[0m\u001b[0m\n",
      "\u001b[0;31mValueError\u001b[0m: x and y must have same first dimension, but have shapes (23502,) and (6,)"
     ]
    },
    {
     "data": {
      "image/png": "[encoded data removed]",
      "text/plain": [
       "<Figure size 432x288 with 1 Axes>"
      ]
     },
     "metadata": {
      "needs_background": "light"
     },
     "output_type": "display_data"
    }
   ],
   "source": [
    "plt.plot(range(1, len(eigenvalues)+1), sorted(eigenvalues))\n",
    "plt.title(\"Eigengap Heuristic\")\n",
    "plt.xlabel(\"Index\")\n",
    "plt.ylabel(\"Eigenvalue\")\n",
    "plt.show()"
   ]
  },
  {
   "cell_type": "code",
   "execution_count": 25,
   "metadata": {},
   "outputs": [
    {
     "name": "stdout",
     "output_type": "stream",
     "text": [
      "Cluster labels for nodes: [0 0 0 ... 0 0 0]\n"
     ]
    },
    {
     "data": {
      "image/png": "[encoded data removed]",
      "text/plain": [
       "<Figure size 432x288 with 2 Axes>"
      ]
     },
     "metadata": {
      "needs_background": "light"
     },
     "output_type": "display_data"
    }
   ],
   "source": [
    "from sklearn.cluster import KMeans\n",
    "\n",
    "num_clusters = 3  # Adjust based on your graph\n",
    "\n",
    "# Use the eigenvectors for clustering (ignoring the first one if it corresponds to eigenvalue 0)\n",
    "# Here we assume the eigenvalues are sorted, and the first eigenvector corresponds to eigenvalue 0\n",
    "feature_matrix = eigenvectors[:, 1:num_clusters]  # Take k-1 eigenvectors\n",
    "\n",
    "# Apply k-means to the feature matrix\n",
    "kmeans = KMeans(n_clusters=num_clusters, random_state=42)\n",
    "labels = kmeans.fit_predict(feature_matrix)\n",
    "\n",
    "# Output the cluster labels for each node\n",
    "print(\"Cluster labels for nodes:\", labels)\n",
    "\n",
    "# Optionally, visualize the clustering (if the graph is 2D or can be projected)\n",
    "plt.scatter(feature_matrix[:, 0], feature_matrix[:, 1], c=labels, cmap=\"viridis\", s=50)\n",
    "plt.title(\"Spectral Clustering Visualization\")\n",
    "plt.xlabel(\"Eigenvector 1\")\n",
    "plt.ylabel(\"Eigenvector 2\")\n",
    "plt.colorbar(label=\"Cluster\")\n",
    "plt.show()"
   ]
  }
 ],
 "metadata": {
  "kernelspec": {
   "display_name": "networks",
   "language": "python",
   "name": "python3"
  },
  "language_info": {
   "codemirror_mode": {
    "name": "ipython",
    "version": 3
   },
   "file_extension": ".py",
   "mimetype": "text/x-python",
   "name": "python",
   "nbconvert_exporter": "python",
   "pygments_lexer": "ipython3",
   "version": "3.7.12"
  }
 },
 "nbformat": 4,
 "nbformat_minor": 2
}
